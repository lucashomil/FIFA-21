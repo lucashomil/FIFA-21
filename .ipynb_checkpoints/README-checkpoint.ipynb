{
 "cells": [
  {
   "cell_type": "markdown",
   "metadata": {},
   "source": [
    "# FIFA 21 STATISTICAL\n",
    "\n",
    "If you are a huge fan of FIFA - Soccer Video Game, you might want to know every player featuring in the game, some basic information about each player, etc.\n",
    "\n",
    "In this Data Analysis, I will be analyzing basic statistics and playing attributes of all the players in FIFA 21. Then, I will be identifying a trend in the data and combine the data analysis with domain research to identify likely factors influencing how good a player is or which position a player is good at.\n",
    "\n",
    "Therefore, we can make our dream team, and have several insights and correlations between player value, wage, age, and performance can be derived from the dataset."
   ]
  },
  {
   "cell_type": "markdown",
   "metadata": {},
   "source": [
    "## Data Description"
   ]
  },
  {
   "cell_type": "markdown",
   "metadata": {},
   "source": [
    "The data was scraped from th"
   ]
  }
 ],
 "metadata": {
  "kernelspec": {
   "display_name": "Python 3",
   "language": "python",
   "name": "python3"
  },
  "language_info": {
   "codemirror_mode": {
    "name": "ipython",
    "version": 3
   },
   "file_extension": ".py",
   "mimetype": "text/x-python",
   "name": "python",
   "nbconvert_exporter": "python",
   "pygments_lexer": "ipython3",
   "version": "3.7.6"
  }
 },
 "nbformat": 4,
 "nbformat_minor": 4
}
