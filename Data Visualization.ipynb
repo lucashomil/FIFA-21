{
 "cells": [
  {
   "cell_type": "code",
   "execution_count": 1,
   "metadata": {},
   "outputs": [],
   "source": [
    "import pandas as pd\n",
    "\n",
    "import plotly.graph_objects as go\n",
    "\n",
    "from plotly.subplots import make_subplots"
   ]
  },
  {
   "cell_type": "code",
   "execution_count": 2,
   "metadata": {},
   "outputs": [
    {
     "data": {
      "text/html": [
       "<div>\n",
       "<style scoped>\n",
       "    .dataframe tbody tr th:only-of-type {\n",
       "        vertical-align: middle;\n",
       "    }\n",
       "\n",
       "    .dataframe tbody tr th {\n",
       "        vertical-align: top;\n",
       "    }\n",
       "\n",
       "    .dataframe thead th {\n",
       "        text-align: right;\n",
       "    }\n",
       "</style>\n",
       "<table border=\"1\" class=\"dataframe\">\n",
       "  <thead>\n",
       "    <tr style=\"text-align: right;\">\n",
       "      <th></th>\n",
       "      <th>ID</th>\n",
       "      <th>Name</th>\n",
       "      <th>Age</th>\n",
       "      <th>Nationality</th>\n",
       "      <th>Overall</th>\n",
       "      <th>Potential</th>\n",
       "      <th>Club</th>\n",
       "      <th>Value (€)</th>\n",
       "      <th>Wage (€)</th>\n",
       "      <th>Special</th>\n",
       "      <th>...</th>\n",
       "      <th>Penalties</th>\n",
       "      <th>Composure</th>\n",
       "      <th>Defensive Awareness</th>\n",
       "      <th>Standing Tackle</th>\n",
       "      <th>Sliding Tackle</th>\n",
       "      <th>GK Diving</th>\n",
       "      <th>GK Handling</th>\n",
       "      <th>GK Kicking</th>\n",
       "      <th>GK Positioning</th>\n",
       "      <th>GK Reflexes</th>\n",
       "    </tr>\n",
       "  </thead>\n",
       "  <tbody>\n",
       "    <tr>\n",
       "      <th>0</th>\n",
       "      <td>227813</td>\n",
       "      <td>Oleksandr Zinchenko</td>\n",
       "      <td>23</td>\n",
       "      <td>Ukraine</td>\n",
       "      <td>80</td>\n",
       "      <td>85</td>\n",
       "      <td>Manchester City</td>\n",
       "      <td>29500000</td>\n",
       "      <td>95000</td>\n",
       "      <td>2144</td>\n",
       "      <td>...</td>\n",
       "      <td>59.0</td>\n",
       "      <td>76.0</td>\n",
       "      <td>78.0</td>\n",
       "      <td>79.0</td>\n",
       "      <td>76.0</td>\n",
       "      <td>15</td>\n",
       "      <td>11</td>\n",
       "      <td>13</td>\n",
       "      <td>11</td>\n",
       "      <td>11</td>\n",
       "    </tr>\n",
       "    <tr>\n",
       "      <th>1</th>\n",
       "      <td>239818</td>\n",
       "      <td>Rúben Santos Gato Alves Dias</td>\n",
       "      <td>23</td>\n",
       "      <td>Portugal</td>\n",
       "      <td>84</td>\n",
       "      <td>89</td>\n",
       "      <td>Manchester City</td>\n",
       "      <td>57500000</td>\n",
       "      <td>135000</td>\n",
       "      <td>1801</td>\n",
       "      <td>...</td>\n",
       "      <td>45.0</td>\n",
       "      <td>81.0</td>\n",
       "      <td>87.0</td>\n",
       "      <td>87.0</td>\n",
       "      <td>83.0</td>\n",
       "      <td>7</td>\n",
       "      <td>8</td>\n",
       "      <td>13</td>\n",
       "      <td>7</td>\n",
       "      <td>12</td>\n",
       "    </tr>\n",
       "    <tr>\n",
       "      <th>2</th>\n",
       "      <td>237692</td>\n",
       "      <td>Phil Foden</td>\n",
       "      <td>20</td>\n",
       "      <td>England</td>\n",
       "      <td>82</td>\n",
       "      <td>92</td>\n",
       "      <td>Manchester City</td>\n",
       "      <td>67000000</td>\n",
       "      <td>105000</td>\n",
       "      <td>2028</td>\n",
       "      <td>...</td>\n",
       "      <td>64.0</td>\n",
       "      <td>81.0</td>\n",
       "      <td>58.0</td>\n",
       "      <td>59.0</td>\n",
       "      <td>47.0</td>\n",
       "      <td>8</td>\n",
       "      <td>15</td>\n",
       "      <td>6</td>\n",
       "      <td>10</td>\n",
       "      <td>13</td>\n",
       "    </tr>\n",
       "    <tr>\n",
       "      <th>3</th>\n",
       "      <td>204485</td>\n",
       "      <td>Riyad Mahrez</td>\n",
       "      <td>29</td>\n",
       "      <td>Algeria</td>\n",
       "      <td>85</td>\n",
       "      <td>85</td>\n",
       "      <td>Manchester City</td>\n",
       "      <td>53000000</td>\n",
       "      <td>210000</td>\n",
       "      <td>2035</td>\n",
       "      <td>...</td>\n",
       "      <td>70.0</td>\n",
       "      <td>84.0</td>\n",
       "      <td>45.0</td>\n",
       "      <td>31.0</td>\n",
       "      <td>22.0</td>\n",
       "      <td>15</td>\n",
       "      <td>9</td>\n",
       "      <td>13</td>\n",
       "      <td>11</td>\n",
       "      <td>6</td>\n",
       "    </tr>\n",
       "    <tr>\n",
       "      <th>4</th>\n",
       "      <td>12265</td>\n",
       "      <td>Owen Hargreaves</td>\n",
       "      <td>30</td>\n",
       "      <td>England</td>\n",
       "      <td>78</td>\n",
       "      <td>78</td>\n",
       "      <td>Manchester City</td>\n",
       "      <td>3000000</td>\n",
       "      <td>30000</td>\n",
       "      <td>2106</td>\n",
       "      <td>...</td>\n",
       "      <td>72.0</td>\n",
       "      <td>NaN</td>\n",
       "      <td>NaN</td>\n",
       "      <td>78.0</td>\n",
       "      <td>75.0</td>\n",
       "      <td>14</td>\n",
       "      <td>9</td>\n",
       "      <td>12</td>\n",
       "      <td>15</td>\n",
       "      <td>12</td>\n",
       "    </tr>\n",
       "  </tbody>\n",
       "</table>\n",
       "<p>5 rows × 57 columns</p>\n",
       "</div>"
      ],
      "text/plain": [
       "       ID                          Name  Age Nationality  Overall  Potential  \\\n",
       "0  227813           Oleksandr Zinchenko   23     Ukraine       80         85   \n",
       "1  239818  Rúben Santos Gato Alves Dias   23    Portugal       84         89   \n",
       "2  237692                    Phil Foden   20     England       82         92   \n",
       "3  204485                  Riyad Mahrez   29     Algeria       85         85   \n",
       "4   12265               Owen Hargreaves   30     England       78         78   \n",
       "\n",
       "              Club  Value (€)  Wage (€)  Special  ... Penalties  Composure  \\\n",
       "0  Manchester City   29500000     95000     2144  ...      59.0       76.0   \n",
       "1  Manchester City   57500000    135000     1801  ...      45.0       81.0   \n",
       "2  Manchester City   67000000    105000     2028  ...      64.0       81.0   \n",
       "3  Manchester City   53000000    210000     2035  ...      70.0       84.0   \n",
       "4  Manchester City    3000000     30000     2106  ...      72.0        NaN   \n",
       "\n",
       "   Defensive Awareness  Standing Tackle Sliding Tackle GK Diving GK Handling  \\\n",
       "0                 78.0             79.0           76.0        15          11   \n",
       "1                 87.0             87.0           83.0         7           8   \n",
       "2                 58.0             59.0           47.0         8          15   \n",
       "3                 45.0             31.0           22.0        15           9   \n",
       "4                  NaN             78.0           75.0        14           9   \n",
       "\n",
       "   GK Kicking GK Positioning  GK Reflexes  \n",
       "0          13             11           11  \n",
       "1          13              7           12  \n",
       "2           6             10           13  \n",
       "3          13             11            6  \n",
       "4          12             15           12  \n",
       "\n",
       "[5 rows x 57 columns]"
      ]
     },
     "execution_count": 2,
     "metadata": {},
     "output_type": "execute_result"
    }
   ],
   "source": [
    "# Loading data set - already cleaned\n",
    "\n",
    "df = pd.read_excel('./Dataset/Dataset-FIFA-21-cleaned.xlsx')\n",
    "\n",
    "df.head()"
   ]
  },
  {
   "cell_type": "markdown",
   "metadata": {},
   "source": [
    "#### Creating A New Dataframe For My Favorite Players"
   ]
  },
  {
   "cell_type": "code",
   "execution_count": 3,
   "metadata": {
    "scrolled": false
   },
   "outputs": [
    {
     "data": {
      "text/html": [
       "<style  type=\"text/css\" >\n",
       "    #T_c85ecfca_b2be_11eb_bac9_cc4adb5d58b5 tr:hover {\n",
       "          background-color: #0080ff;\n",
       "    }    #T_c85ecfca_b2be_11eb_bac9_cc4adb5d58b5row0_col1 {\n",
       "            background-color:  #08306b;\n",
       "            color:  #f1f1f1;\n",
       "        }    #T_c85ecfca_b2be_11eb_bac9_cc4adb5d58b5row0_col2 {\n",
       "            background-color:  #f7fbff;\n",
       "            color:  #000000;\n",
       "        }    #T_c85ecfca_b2be_11eb_bac9_cc4adb5d58b5row0_col3 {\n",
       "            background-color:  #56a0ce;\n",
       "            color:  #000000;\n",
       "        }    #T_c85ecfca_b2be_11eb_bac9_cc4adb5d58b5row0_col4 {\n",
       "            background-color:  #08509b;\n",
       "            color:  #f1f1f1;\n",
       "        }    #T_c85ecfca_b2be_11eb_bac9_cc4adb5d58b5row0_col5 {\n",
       "            background-color:  #105ba4;\n",
       "            color:  #f1f1f1;\n",
       "        }    #T_c85ecfca_b2be_11eb_bac9_cc4adb5d58b5row0_col6 {\n",
       "            background-color:  #1b69af;\n",
       "            color:  #f1f1f1;\n",
       "        }    #T_c85ecfca_b2be_11eb_bac9_cc4adb5d58b5row1_col1 {\n",
       "            background-color:  #f7fbff;\n",
       "            color:  #000000;\n",
       "        }    #T_c85ecfca_b2be_11eb_bac9_cc4adb5d58b5row1_col2 {\n",
       "            background-color:  #6aaed6;\n",
       "            color:  #000000;\n",
       "        }    #T_c85ecfca_b2be_11eb_bac9_cc4adb5d58b5row1_col3 {\n",
       "            background-color:  #08306b;\n",
       "            color:  #f1f1f1;\n",
       "        }    #T_c85ecfca_b2be_11eb_bac9_cc4adb5d58b5row1_col4 {\n",
       "            background-color:  #6aaed6;\n",
       "            color:  #000000;\n",
       "        }    #T_c85ecfca_b2be_11eb_bac9_cc4adb5d58b5row1_col5 {\n",
       "            background-color:  #f7fbff;\n",
       "            color:  #000000;\n",
       "        }    #T_c85ecfca_b2be_11eb_bac9_cc4adb5d58b5row1_col6 {\n",
       "            background-color:  #08306b;\n",
       "            color:  #f1f1f1;\n",
       "        }    #T_c85ecfca_b2be_11eb_bac9_cc4adb5d58b5row2_col1 {\n",
       "            background-color:  #08306b;\n",
       "            color:  #f1f1f1;\n",
       "        }    #T_c85ecfca_b2be_11eb_bac9_cc4adb5d58b5row2_col2 {\n",
       "            background-color:  #08306b;\n",
       "            color:  #f1f1f1;\n",
       "        }    #T_c85ecfca_b2be_11eb_bac9_cc4adb5d58b5row2_col3 {\n",
       "            background-color:  #f7fbff;\n",
       "            color:  #000000;\n",
       "        }    #T_c85ecfca_b2be_11eb_bac9_cc4adb5d58b5row2_col4 {\n",
       "            background-color:  #08306b;\n",
       "            color:  #f1f1f1;\n",
       "        }    #T_c85ecfca_b2be_11eb_bac9_cc4adb5d58b5row2_col5 {\n",
       "            background-color:  #08306b;\n",
       "            color:  #f1f1f1;\n",
       "        }    #T_c85ecfca_b2be_11eb_bac9_cc4adb5d58b5row2_col6 {\n",
       "            background-color:  #82bbdb;\n",
       "            color:  #000000;\n",
       "        }    #T_c85ecfca_b2be_11eb_bac9_cc4adb5d58b5row3_col1 {\n",
       "            background-color:  #0b559f;\n",
       "            color:  #f1f1f1;\n",
       "        }    #T_c85ecfca_b2be_11eb_bac9_cc4adb5d58b5row3_col2 {\n",
       "            background-color:  #08306b;\n",
       "            color:  #f1f1f1;\n",
       "        }    #T_c85ecfca_b2be_11eb_bac9_cc4adb5d58b5row3_col3 {\n",
       "            background-color:  #3181bd;\n",
       "            color:  #000000;\n",
       "        }    #T_c85ecfca_b2be_11eb_bac9_cc4adb5d58b5row3_col4 {\n",
       "            background-color:  #f7fbff;\n",
       "            color:  #000000;\n",
       "        }    #T_c85ecfca_b2be_11eb_bac9_cc4adb5d58b5row3_col5 {\n",
       "            background-color:  #abd0e6;\n",
       "            color:  #000000;\n",
       "        }    #T_c85ecfca_b2be_11eb_bac9_cc4adb5d58b5row3_col6 {\n",
       "            background-color:  #f7fbff;\n",
       "            color:  #000000;\n",
       "        }</style><table id=\"T_c85ecfca_b2be_11eb_bac9_cc4adb5d58b5\" ><caption>Top players</caption><thead>    <tr>        <th class=\"blank level0\" ></th>        <th class=\"col_heading level0 col0\" >Name</th>        <th class=\"col_heading level0 col1\" >Crossing</th>        <th class=\"col_heading level0 col2\" >Finishing</th>        <th class=\"col_heading level0 col3\" >Sprint Speed</th>        <th class=\"col_heading level0 col4\" >Dribbling</th>        <th class=\"col_heading level0 col5\" >Ball Control</th>        <th class=\"col_heading level0 col6\" >Acceleration</th>    </tr></thead><tbody>\n",
       "                <tr>\n",
       "                        <th id=\"T_c85ecfca_b2be_11eb_bac9_cc4adb5d58b5level0_row0\" class=\"row_heading level0 row0\" >5</th>\n",
       "                        <td id=\"T_c85ecfca_b2be_11eb_bac9_cc4adb5d58b5row0_col0\" class=\"data row0 col0\" >Neymar da Silva Santos Jr.</td>\n",
       "                        <td id=\"T_c85ecfca_b2be_11eb_bac9_cc4adb5d58b5row0_col1\" class=\"data row0 col1\" >85</td>\n",
       "                        <td id=\"T_c85ecfca_b2be_11eb_bac9_cc4adb5d58b5row0_col2\" class=\"data row0 col2\" >87</td>\n",
       "                        <td id=\"T_c85ecfca_b2be_11eb_bac9_cc4adb5d58b5row0_col3\" class=\"data row0 col3\" >89</td>\n",
       "                        <td id=\"T_c85ecfca_b2be_11eb_bac9_cc4adb5d58b5row0_col4\" class=\"data row0 col4\" >95</td>\n",
       "                        <td id=\"T_c85ecfca_b2be_11eb_bac9_cc4adb5d58b5row0_col5\" class=\"data row0 col5\" >95</td>\n",
       "                        <td id=\"T_c85ecfca_b2be_11eb_bac9_cc4adb5d58b5row0_col6\" class=\"data row0 col6\" >94</td>\n",
       "            </tr>\n",
       "            <tr>\n",
       "                        <th id=\"T_c85ecfca_b2be_11eb_bac9_cc4adb5d58b5level0_row1\" class=\"row_heading level0 row1\" >15</th>\n",
       "                        <td id=\"T_c85ecfca_b2be_11eb_bac9_cc4adb5d58b5row1_col0\" class=\"data row1 col0\" >Kylian Mbappé</td>\n",
       "                        <td id=\"T_c85ecfca_b2be_11eb_bac9_cc4adb5d58b5row1_col1\" class=\"data row1 col1\" >78</td>\n",
       "                        <td id=\"T_c85ecfca_b2be_11eb_bac9_cc4adb5d58b5row1_col2\" class=\"data row1 col2\" >91</td>\n",
       "                        <td id=\"T_c85ecfca_b2be_11eb_bac9_cc4adb5d58b5row1_col3\" class=\"data row1 col3\" >96</td>\n",
       "                        <td id=\"T_c85ecfca_b2be_11eb_bac9_cc4adb5d58b5row1_col4\" class=\"data row1 col4\" >92</td>\n",
       "                        <td id=\"T_c85ecfca_b2be_11eb_bac9_cc4adb5d58b5row1_col5\" class=\"data row1 col5\" >90</td>\n",
       "                        <td id=\"T_c85ecfca_b2be_11eb_bac9_cc4adb5d58b5row1_col6\" class=\"data row1 col6\" >96</td>\n",
       "            </tr>\n",
       "            <tr>\n",
       "                        <th id=\"T_c85ecfca_b2be_11eb_bac9_cc4adb5d58b5level0_row2\" class=\"row_heading level0 row2\" >39</th>\n",
       "                        <td id=\"T_c85ecfca_b2be_11eb_bac9_cc4adb5d58b5row2_col0\" class=\"data row2 col0\" >Lionel Messi</td>\n",
       "                        <td id=\"T_c85ecfca_b2be_11eb_bac9_cc4adb5d58b5row2_col1\" class=\"data row2 col1\" >85</td>\n",
       "                        <td id=\"T_c85ecfca_b2be_11eb_bac9_cc4adb5d58b5row2_col2\" class=\"data row2 col2\" >95</td>\n",
       "                        <td id=\"T_c85ecfca_b2be_11eb_bac9_cc4adb5d58b5row2_col3\" class=\"data row2 col3\" >80</td>\n",
       "                        <td id=\"T_c85ecfca_b2be_11eb_bac9_cc4adb5d58b5row2_col4\" class=\"data row2 col4\" >96</td>\n",
       "                        <td id=\"T_c85ecfca_b2be_11eb_bac9_cc4adb5d58b5row2_col5\" class=\"data row2 col5\" >96</td>\n",
       "                        <td id=\"T_c85ecfca_b2be_11eb_bac9_cc4adb5d58b5row2_col6\" class=\"data row2 col6\" >91</td>\n",
       "            </tr>\n",
       "            <tr>\n",
       "                        <th id=\"T_c85ecfca_b2be_11eb_bac9_cc4adb5d58b5level0_row3\" class=\"row_heading level0 row3\" >48</th>\n",
       "                        <td id=\"T_c85ecfca_b2be_11eb_bac9_cc4adb5d58b5row3_col0\" class=\"data row3 col0\" >C. Ronaldo dos Santos Aveiro</td>\n",
       "                        <td id=\"T_c85ecfca_b2be_11eb_bac9_cc4adb5d58b5row3_col1\" class=\"data row3 col1\" >84</td>\n",
       "                        <td id=\"T_c85ecfca_b2be_11eb_bac9_cc4adb5d58b5row3_col2\" class=\"data row3 col2\" >95</td>\n",
       "                        <td id=\"T_c85ecfca_b2be_11eb_bac9_cc4adb5d58b5row3_col3\" class=\"data row3 col3\" >91</td>\n",
       "                        <td id=\"T_c85ecfca_b2be_11eb_bac9_cc4adb5d58b5row3_col4\" class=\"data row3 col4\" >88</td>\n",
       "                        <td id=\"T_c85ecfca_b2be_11eb_bac9_cc4adb5d58b5row3_col5\" class=\"data row3 col5\" >92</td>\n",
       "                        <td id=\"T_c85ecfca_b2be_11eb_bac9_cc4adb5d58b5row3_col6\" class=\"data row3 col6\" >87</td>\n",
       "            </tr>\n",
       "    </tbody></table>"
      ],
      "text/plain": [
       "<pandas.io.formats.style.Styler at 0x1c64427cfc8>"
      ]
     },
     "execution_count": 3,
     "metadata": {},
     "output_type": "execute_result"
    }
   ],
   "source": [
    "top_player = df.loc[df.Name.isin(['Lionel Messi', 'C. Ronaldo dos Santos Aveiro', 'Neymar da Silva Santos Jr.', 'Kylian Mbappé'])]\n",
    "\n",
    "top_player = top_player[['Name', 'Crossing', 'Finishing', 'Sprint Speed', 'Dribbling', 'Ball Control', 'Acceleration']]\n",
    "\n",
    "# Formatted table output\n",
    "top_player.style\\\n",
    "          .set_caption('Top players')\\\n",
    "          .set_table_styles([{'selector': 'tr:hover','props': [('background-color', '#0080ff')]}])\\\n",
    "          .set_precision(0)\\\n",
    "          .background_gradient(cmap = 'Blues')"
   ]
  },
  {
   "cell_type": "code",
   "execution_count": 4,
   "metadata": {},
   "outputs": [],
   "source": [
    "def create_polarcharts(stats: list, color: str, name_one: str, name_two: str):\n",
    "    \n",
    "    '''\n",
    "    The function accepts the following arguments:\n",
    "    \n",
    "        stats - takes a list of numeric values of characteristics\n",
    "        color - takes the color of the lines in the diagram\n",
    "        img_link - accepts a link to an image of a player\n",
    "        name_one - takes the name of the player\n",
    "        name_two - accepts any additional text\n",
    "    \n",
    "    '''\n",
    "    # Determine the number of rows and columns\n",
    "    fig = make_subplots(rows=1, cols=3, \n",
    "                        # We indicate the types of graphs in each block\n",
    "                        specs=[[{'type': 'xy'}, {\"type\": \"polar\"}, {'type': 'xy'},]],\n",
    "                        # Setting the width of each column\n",
    "                        column_widths=[0.3, 0.7, 0.3])\n",
    "    \n",
    "    # Create a Polar Chart\n",
    "    fig.add_trace(go.Scatterpolar(\n",
    "                     # Passing numeric parameters\n",
    "                     r=stats,\n",
    "                     # Passing parameter names\n",
    "                     theta=['Crossing', 'Finishing', 'Sprint Speed', 'Dribbling', 'Ball Control', 'Acceleration', 'Crossing'],\n",
    "                     # Setting the fill parameter\n",
    "                     fill='toself',\n",
    "                     # Specify the signature on hover\n",
    "                     hovertemplate='<b>%{theta}</b>' + f'<b>: '+'%{r}',\n",
    "                     # Specify a caption for the legend\n",
    "                     name='',\n",
    "                     # Specifying the line color\n",
    "                     line=dict(color=color)),\n",
    "                     # Specify line and column numbers\n",
    "                     row=1, col=2)\n",
    "\n",
    "    fig.update_layout(\n",
    "        # Set the name of the chart\n",
    "        title=f'<b>{name_one}</b><br><sub>{name_two}</sub>',\n",
    "        # Setting the background color\n",
    "        paper_bgcolor=\"rgb(223, 223, 223)\",\n",
    "        # Setting the chart theme\n",
    "        template='xgridoff',\n",
    "        # Passing chart parameters\n",
    "        polar=dict(\n",
    "             # Background color\n",
    "             bgcolor=\"rgb(223, 223, 223)\",\n",
    "             # Adding a line with numeric divisions\n",
    "             radialaxis=dict(\n",
    "                        # Displaying the line\n",
    "                        visible = True,\n",
    "                        # Set the range of divisions\n",
    "                        range = [0, 100]\n",
    "                            )\n",
    "                   ), \n",
    "        # Passing the parameters to the font\n",
    "        font=dict(\n",
    "                  # Font type\n",
    "                  family='Arials',\n",
    "                  # Font size\n",
    "                  size=14,\n",
    "                  # Font color\n",
    "                  color='Black'\n",
    "                 )\n",
    "    )\n",
    "\n",
    "    # Displaying the graph\n",
    "    fig.show('svg')"
   ]
  },
  {
   "cell_type": "markdown",
   "metadata": {},
   "source": [
    "#### Lionel Messi"
   ]
  },
  {
   "cell_type": "code",
   "execution_count": 5,
   "metadata": {},
   "outputs": [
    {
     "data": {
      "image/svg+xml": [
       "<svg class=\"main-svg\" xmlns=\"http://www.w3.org/2000/svg\" xmlns:xlink=\"http://www.w3.org/1999/xlink\" width=\"700\" height=\"450\" style=\"\" viewBox=\"0 0 700 450\"><rect x=\"0\" y=\"0\" width=\"700\" height=\"450\" style=\"fill: rgb(223, 223, 223); fill-opacity: 1;\"/><defs id=\"defs-fa6820\"><g class=\"clips\"><clipPath id=\"clipfa6820polar-for-traces\"><path d=\"M126.00000000000001,0A126.00000000000001,126.00000000000001 0,1,0 -126.00000000000001,-1.543054966925665e-14A126.00000000000001,126.00000000000001 0,1,0 126.00000000000001,3.08610993385133e-14Z\" transform=\"translate(126,126)\"/></clipPath></g><g class=\"gradients\"/></defs><g class=\"bglayer\"/><g class=\"layer-below\"><g class=\"imagelayer\"/><g class=\"shapelayer\"/></g><g class=\"cartesianlayer\"/><g class=\"polarlayer\"><g class=\"polar\"><g class=\"polarsublayer draglayer\"/><g class=\"polarsublayer plotbg\"><path d=\"M126.00000000000001,0A126.00000000000001,126.00000000000001 0,1,0 -126.00000000000001,-1.543054966925665e-14A126.00000000000001,126.00000000000001 0,1,0 126.00000000000001,3.08610993385133e-14Z\" transform=\"translate(350,235)\" style=\"fill: rgb(223, 223, 223); fill-opacity: 1;\"/></g><g class=\"polarsublayer backplot\"><g class=\"maplayer\"/></g><g class=\"polarsublayer angular-grid\" style=\"fill: none;\"><path class=\"angularaxisgrid\" d=\"M350,235L476,235\" style=\"stroke: rgb(161, 161, 161); stroke-opacity: 1; stroke-width: 1px;\"/><path class=\"angularaxisgrid\" d=\"M350,235L413,125.88079912316073\" style=\"stroke: rgb(161, 161, 161); stroke-opacity: 1; stroke-width: 1px;\"/><path class=\"angularaxisgrid\" d=\"M350,235L287,125.88079912316071\" style=\"stroke: rgb(161, 161, 161); stroke-opacity: 1; stroke-width: 1px;\"/><path class=\"angularaxisgrid\" d=\"M350,235L224,234.99999999999997\" style=\"stroke: rgb(161, 161, 161); stroke-opacity: 1; stroke-width: 1px;\"/><path class=\"angularaxisgrid\" d=\"M350,235L286.99999999999994,344.1192008768393\" style=\"stroke: rgb(161, 161, 161); stroke-opacity: 1; stroke-width: 1px;\"/><path class=\"angularaxisgrid\" d=\"M350,235L413,344.1192008768393\" style=\"stroke: rgb(161, 161, 161); stroke-opacity: 1; stroke-width: 1px;\"/></g><g class=\"polarsublayer radial-grid\" style=\"fill: none;\" transform=\"translate(350,235)\"><path class=\"xgrid\" d=\"M25.2,0A25.2,25.2 0,1,0 -25.2,-3.08610993385133e-15A25.2,25.2 0,1,0 25.2,6.17221986770266e-15Z\" style=\"stroke: rgb(161, 161, 161); stroke-opacity: 1; stroke-width: 1px;\"/><path class=\"xgrid\" d=\"M50.4,0A50.4,50.4 0,1,0 -50.4,-6.17221986770266e-15A50.4,50.4 0,1,0 50.4,1.234443973540532e-14Z\" style=\"stroke: rgb(161, 161, 161); stroke-opacity: 1; stroke-width: 1px;\"/><path class=\"xgrid\" d=\"M75.6,0A75.6,75.6 0,1,0 -75.6,-9.258329801553989e-15A75.6,75.6 0,1,0 75.6,1.8516659603107978e-14Z\" style=\"stroke: rgb(161, 161, 161); stroke-opacity: 1; stroke-width: 1px;\"/><path class=\"xgrid\" d=\"M100.8,0A100.8,100.8 0,1,0 -100.8,-1.234443973540532e-14A100.8,100.8 0,1,0 100.8,2.468887947081064e-14Z\" style=\"stroke: rgb(161, 161, 161); stroke-opacity: 1; stroke-width: 1px;\"/></g><g class=\"polarsublayer frontplot\" transform=\"translate(224,109)\"><g class=\"barlayer\"/><g class=\"scatterlayer\"><g class=\"trace scatter trace2d0fa3\" style=\"stroke-miterlimit: 2; opacity: 1;\"><g class=\"fills\" clip-path=\"url('#clipfa6820polar-for-traces')\"><g><path class=\"js-fill\" d=\"M233.1,126L185.85,22.34L75.6,38.7L5.04,126L65.52,230.75L183.33,225.3L233.1,126Z\" style=\"fill: rgb(25, 25, 112); fill-opacity: 0.5; stroke-width: 0;\"/></g></g><g class=\"errorbars\"/><g class=\"lines\"><path class=\"js-line\" d=\"M233.1,126L185.85,22.34L75.6,38.7L5.04,126L65.52,230.75L183.33,225.3L233.1,126\" clip-path=\"url('#clipfa6820polar-for-traces')\" style=\"vector-effect: non-scaling-stroke; fill: none; stroke: rgb(25, 25, 112); stroke-opacity: 1; stroke-width: 2px; opacity: 1;\"/></g><g class=\"points\"><path class=\"point\" transform=\"translate(233.1,126)\" d=\"M3,0A3,3 0 1,1 0,-3A3,3 0 0,1 3,0Z\" style=\"opacity: 1; stroke-width: 0px; fill: rgb(25, 25, 112); fill-opacity: 1;\"/><path class=\"point\" transform=\"translate(185.85,22.34)\" d=\"M3,0A3,3 0 1,1 0,-3A3,3 0 0,1 3,0Z\" style=\"opacity: 1; stroke-width: 0px; fill: rgb(25, 25, 112); fill-opacity: 1;\"/><path class=\"point\" transform=\"translate(75.6,38.7)\" d=\"M3,0A3,3 0 1,1 0,-3A3,3 0 0,1 3,0Z\" style=\"opacity: 1; stroke-width: 0px; fill: rgb(25, 25, 112); fill-opacity: 1;\"/><path class=\"point\" transform=\"translate(5.04,126)\" d=\"M3,0A3,3 0 1,1 0,-3A3,3 0 0,1 3,0Z\" style=\"opacity: 1; stroke-width: 0px; fill: rgb(25, 25, 112); fill-opacity: 1;\"/><path class=\"point\" transform=\"translate(65.52,230.75)\" d=\"M3,0A3,3 0 1,1 0,-3A3,3 0 0,1 3,0Z\" style=\"opacity: 1; stroke-width: 0px; fill: rgb(25, 25, 112); fill-opacity: 1;\"/><path class=\"point\" transform=\"translate(183.33,225.3)\" d=\"M3,0A3,3 0 1,1 0,-3A3,3 0 0,1 3,0Z\" style=\"opacity: 1; stroke-width: 0px; fill: rgb(25, 25, 112); fill-opacity: 1;\"/><path class=\"point\" transform=\"translate(233.1,126)\" d=\"M3,0A3,3 0 1,1 0,-3A3,3 0 0,1 3,0Z\" style=\"opacity: 1; stroke-width: 0px; fill: rgb(25, 25, 112); fill-opacity: 1;\"/></g><g class=\"text\"/></g></g></g><g class=\"polarsublayer angular-line\"><path d=\"M126.00000000000001,0A126.00000000000001,126.00000000000001 0,1,0 -126.00000000000001,-1.543054966925665e-14A126.00000000000001,126.00000000000001 0,1,0 126.00000000000001,3.08610993385133e-14Z\" transform=\"translate(350,235)\" stroke-width=\"1\" style=\"fill: none; stroke: rgb(68, 68, 68); stroke-opacity: 1;\"/></g><g class=\"polarsublayer radial-line\"><line style=\"fill: none; stroke: rgb(68, 68, 68); stroke-opacity: 1;\" x1=\"0\" y1=\"0\" x2=\"126.00000000000001\" y2=\"0\" transform=\"translate(350,235)\" stroke-width=\"1\"/></g><g class=\"polarsublayer angular-axis\"><path class=\"angularaxistick ticks\" d=\"M0.5,0h5\" transform=\"translate(476,235)\" style=\"stroke: rgb(68, 68, 68); stroke-opacity: 1; stroke-width: 1px;\"/><path class=\"angularaxistick ticks\" d=\"M0.5,0h5\" transform=\"translate(413,125.88079912316073)rotate(-60)\" style=\"stroke: rgb(68, 68, 68); stroke-opacity: 1; stroke-width: 1px;\"/><path class=\"angularaxistick ticks\" d=\"M0.5,0h5\" transform=\"translate(287,125.88079912316071)rotate(-120)\" style=\"stroke: rgb(68, 68, 68); stroke-opacity: 1; stroke-width: 1px;\"/><path class=\"angularaxistick ticks\" d=\"M0.5,0h5\" transform=\"translate(224,234.99999999999997)rotate(-180)\" style=\"stroke: rgb(68, 68, 68); stroke-opacity: 1; stroke-width: 1px;\"/><path class=\"angularaxistick ticks\" d=\"M0.5,0h5\" transform=\"translate(286.99999999999994,344.1192008768393)rotate(-240)\" style=\"stroke: rgb(68, 68, 68); stroke-opacity: 1; stroke-width: 1px;\"/><path class=\"angularaxistick ticks\" d=\"M0.5,0h5\" transform=\"translate(413,344.1192008768393)rotate(-300)\" style=\"stroke: rgb(68, 68, 68); stroke-opacity: 1; stroke-width: 1px;\"/><g class=\"angularaxistick\"><text text-anchor=\"start\" x=\"8.3\" y=\"4.8999999999999995\" transform=\"translate(476,235)\" style=\"font-family: Arials; font-size: 14px; fill: rgb(0, 0, 0); fill-opacity: 1; white-space: pre;\">Crossing</text></g><g class=\"angularaxistick\"><text text-anchor=\"start\" x=\"4.150000000000001\" y=\"-7.16288198200727\" transform=\"translate(413,125.88079912316073)\" style=\"font-family: Arials; font-size: 14px; fill: rgb(0, 0, 0); fill-opacity: 1; white-space: pre;\">Finishing</text></g><g class=\"angularaxistick\"><text text-anchor=\"end\" x=\"-4.149999999999999\" y=\"-7.162881982007272\" transform=\"translate(287,125.88079912316071)\" style=\"font-family: Arials; font-size: 14px; fill: rgb(0, 0, 0); fill-opacity: 1; white-space: pre;\">Sprint Speed</text></g><g class=\"angularaxistick\"><text text-anchor=\"end\" x=\"-8.3\" y=\"4.899999999999998\" transform=\"translate(224,234.99999999999997)\" style=\"font-family: Arials; font-size: 14px; fill: rgb(0, 0, 0); fill-opacity: 1; white-space: pre;\">Dribbling</text></g><g class=\"angularaxistick\"><text text-anchor=\"end\" x=\"-4.150000000000004\" y=\"21.762366504392983\" transform=\"translate(286.99999999999994,344.1192008768393)\" style=\"font-family: Arials; font-size: 14px; fill: rgb(0, 0, 0); fill-opacity: 1; white-space: pre;\">Ball Control</text></g><g class=\"angularaxistick\"><text text-anchor=\"start\" x=\"4.150000000000001\" y=\"21.76236650439298\" transform=\"translate(413,344.1192008768393)\" style=\"font-family: Arials; font-size: 14px; fill: rgb(0, 0, 0); fill-opacity: 1; white-space: pre;\">Acceleration</text></g></g><g class=\"polarsublayer radial-axis\" transform=\"translate(350,235)\"><path class=\"xtick ticks\" d=\"M0,0.5v5\" transform=\"\" style=\"stroke: rgb(68, 68, 68); stroke-opacity: 1; stroke-width: 1px;\"/><path class=\"xtick ticks\" d=\"M0,0.5v5\" transform=\"translate(25.2,0)\" style=\"stroke: rgb(68, 68, 68); stroke-opacity: 1; stroke-width: 1px;\"/><path class=\"xtick ticks\" d=\"M0,0.5v5\" transform=\"translate(50.4,0)\" style=\"stroke: rgb(68, 68, 68); stroke-opacity: 1; stroke-width: 1px;\"/><path class=\"xtick ticks\" d=\"M0,0.5v5\" transform=\"translate(75.6,0)\" style=\"stroke: rgb(68, 68, 68); stroke-opacity: 1; stroke-width: 1px;\"/><path class=\"xtick ticks\" d=\"M0,0.5v5\" transform=\"translate(100.8,0)\" style=\"stroke: rgb(68, 68, 68); stroke-opacity: 1; stroke-width: 1px;\"/><path class=\"xtick ticks\" d=\"M0,0.5v5\" transform=\"translate(126,0)\" style=\"stroke: rgb(68, 68, 68); stroke-opacity: 1; stroke-width: 1px;\"/><g class=\"xtick\"><text text-anchor=\"middle\" x=\"0\" y=\"22.3\" transform=\"\" style=\"font-family: Arials; font-size: 14px; fill: rgb(0, 0, 0); fill-opacity: 1; white-space: pre;\">0</text></g><g class=\"xtick\"><text text-anchor=\"middle\" x=\"0\" y=\"22.3\" transform=\"translate(25.2,0)\" style=\"font-family: Arials; font-size: 14px; fill: rgb(0, 0, 0); fill-opacity: 1; white-space: pre;\">20</text></g><g class=\"xtick\"><text text-anchor=\"middle\" x=\"0\" y=\"22.3\" transform=\"translate(50.4,0)\" style=\"font-family: Arials; font-size: 14px; fill: rgb(0, 0, 0); fill-opacity: 1; white-space: pre;\">40</text></g><g class=\"xtick\"><text text-anchor=\"middle\" x=\"0\" y=\"22.3\" transform=\"translate(75.6,0)\" style=\"font-family: Arials; font-size: 14px; fill: rgb(0, 0, 0); fill-opacity: 1; white-space: pre;\">60</text></g><g class=\"xtick\"><text text-anchor=\"middle\" x=\"0\" y=\"22.3\" transform=\"translate(100.8,0)\" style=\"font-family: Arials; font-size: 14px; fill: rgb(0, 0, 0); fill-opacity: 1; white-space: pre;\">80</text></g><g class=\"xtick\"><text text-anchor=\"middle\" x=\"0\" y=\"22.3\" transform=\"translate(126,0)\" style=\"font-family: Arials; font-size: 14px; fill: rgb(0, 0, 0); fill-opacity: 1; white-space: pre;\">100</text></g></g></g></g><g class=\"ternarylayer\"/><g class=\"geolayer\"/><g class=\"funnelarealayer\"/><g class=\"pielayer\"/><g class=\"treemaplayer\"/><g class=\"sunburstlayer\"/><g class=\"glimages\"/><defs id=\"topdefs-fa6820\"><g class=\"clips\"/></defs><g class=\"layer-above\"><g class=\"imagelayer\"/><g class=\"shapelayer\"/></g><g class=\"infolayer\"><g class=\"g-gtitle\"><text class=\"gtitle\" x=\"350\" y=\"50\" text-anchor=\"middle\" dy=\"0em\" style=\"font-family: Arials; font-size: 20px; fill: rgb(0, 0, 0); opacity: 1; font-weight: normal; white-space: pre;\"><tspan class=\"line\" dy=\"0em\" x=\"350\" y=\"50\"><tspan style=\"font-weight:bold\">Lionel Messi</tspan></tspan><tspan class=\"line\" dy=\"1.3em\" x=\"350\" y=\"50\">​<tspan style=\"font-size:70%\" dy=\"0.3em\">Right Forward in FC Barcelona</tspan><tspan dy=\"-0.21em\">​</tspan></tspan></text></g><g class=\"g-polartitle\"/></g></svg>"
      ]
     },
     "metadata": {},
     "output_type": "display_data"
    }
   ],
   "source": [
    "create_polarcharts([85, 95, 80, 96, 96, 91, 85], \n",
    "                   'MidnightBlue',\n",
    "                   'Lionel Messi',\n",
    "                   'Right Forward in FC Barcelona')"
   ]
  },
  {
   "cell_type": "markdown",
   "metadata": {},
   "source": [
    "As we can tell from the above graph, Messi has excellent Dribbling, Ball Control, and Finishing techniques, good Acceleration, average Crossing and a low Sprint Speed index."
   ]
  },
  {
   "cell_type": "markdown",
   "metadata": {},
   "source": [
    "#### C. Ronaldo dos Santos Aveiro"
   ]
  },
  {
   "cell_type": "code",
   "execution_count": 6,
   "metadata": {},
   "outputs": [
    {
     "data": {
      "image/svg+xml": [
       "<svg class=\"main-svg\" xmlns=\"http://www.w3.org/2000/svg\" xmlns:xlink=\"http://www.w3.org/1999/xlink\" width=\"700\" height=\"450\" style=\"\" viewBox=\"0 0 700 450\"><rect x=\"0\" y=\"0\" width=\"700\" height=\"450\" style=\"fill: rgb(223, 223, 223); fill-opacity: 1;\"/><defs id=\"defs-ada035\"><g class=\"clips\"><clipPath id=\"clipada035polar-for-traces\"><path d=\"M126.00000000000001,0A126.00000000000001,126.00000000000001 0,1,0 -126.00000000000001,-1.543054966925665e-14A126.00000000000001,126.00000000000001 0,1,0 126.00000000000001,3.08610993385133e-14Z\" transform=\"translate(126,126)\"/></clipPath></g><g class=\"gradients\"/></defs><g class=\"bglayer\"/><g class=\"layer-below\"><g class=\"imagelayer\"/><g class=\"shapelayer\"/></g><g class=\"cartesianlayer\"/><g class=\"polarlayer\"><g class=\"polar\"><g class=\"polarsublayer draglayer\"/><g class=\"polarsublayer plotbg\"><path d=\"M126.00000000000001,0A126.00000000000001,126.00000000000001 0,1,0 -126.00000000000001,-1.543054966925665e-14A126.00000000000001,126.00000000000001 0,1,0 126.00000000000001,3.08610993385133e-14Z\" transform=\"translate(350,235)\" style=\"fill: rgb(223, 223, 223); fill-opacity: 1;\"/></g><g class=\"polarsublayer backplot\"><g class=\"maplayer\"/></g><g class=\"polarsublayer angular-grid\" style=\"fill: none;\"><path class=\"angularaxisgrid\" d=\"M350,235L476,235\" style=\"stroke: rgb(161, 161, 161); stroke-opacity: 1; stroke-width: 1px;\"/><path class=\"angularaxisgrid\" d=\"M350,235L413,125.88079912316073\" style=\"stroke: rgb(161, 161, 161); stroke-opacity: 1; stroke-width: 1px;\"/><path class=\"angularaxisgrid\" d=\"M350,235L287,125.88079912316071\" style=\"stroke: rgb(161, 161, 161); stroke-opacity: 1; stroke-width: 1px;\"/><path class=\"angularaxisgrid\" d=\"M350,235L224,234.99999999999997\" style=\"stroke: rgb(161, 161, 161); stroke-opacity: 1; stroke-width: 1px;\"/><path class=\"angularaxisgrid\" d=\"M350,235L286.99999999999994,344.1192008768393\" style=\"stroke: rgb(161, 161, 161); stroke-opacity: 1; stroke-width: 1px;\"/><path class=\"angularaxisgrid\" d=\"M350,235L413,344.1192008768393\" style=\"stroke: rgb(161, 161, 161); stroke-opacity: 1; stroke-width: 1px;\"/></g><g class=\"polarsublayer radial-grid\" transform=\"translate(350,235)\" style=\"fill: none;\"><path class=\"xgrid\" d=\"M25.2,0A25.2,25.2 0,1,0 -25.2,-3.08610993385133e-15A25.2,25.2 0,1,0 25.2,6.17221986770266e-15Z\" style=\"stroke: rgb(161, 161, 161); stroke-opacity: 1; stroke-width: 1px;\"/><path class=\"xgrid\" d=\"M50.4,0A50.4,50.4 0,1,0 -50.4,-6.17221986770266e-15A50.4,50.4 0,1,0 50.4,1.234443973540532e-14Z\" style=\"stroke: rgb(161, 161, 161); stroke-opacity: 1; stroke-width: 1px;\"/><path class=\"xgrid\" d=\"M75.6,0A75.6,75.6 0,1,0 -75.6,-9.258329801553989e-15A75.6,75.6 0,1,0 75.6,1.8516659603107978e-14Z\" style=\"stroke: rgb(161, 161, 161); stroke-opacity: 1; stroke-width: 1px;\"/><path class=\"xgrid\" d=\"M100.8,0A100.8,100.8 0,1,0 -100.8,-1.234443973540532e-14A100.8,100.8 0,1,0 100.8,2.468887947081064e-14Z\" style=\"stroke: rgb(161, 161, 161); stroke-opacity: 1; stroke-width: 1px;\"/></g><g class=\"polarsublayer frontplot\" transform=\"translate(224,109)\"><g class=\"barlayer\"/><g class=\"scatterlayer\"><g class=\"trace scatter traceb32572\" style=\"stroke-miterlimit: 2; opacity: 1;\"><g class=\"fills\" clip-path=\"url('#clipada035polar-for-traces')\"><g><path class=\"js-fill\" d=\"M231.84,126L185.85,22.34L68.67,26.7L15.12,126L68.04,226.39L180.81,220.93L231.84,126Z\" style=\"fill: rgb(0, 0, 0); fill-opacity: 0.5; stroke-width: 0;\"/></g></g><g class=\"errorbars\"/><g class=\"lines\"><path class=\"js-line\" d=\"M231.84,126L185.85,22.34L68.67,26.7L15.12,126L68.04,226.39L180.81,220.93L231.84,126\" clip-path=\"url('#clipada035polar-for-traces')\" style=\"vector-effect: non-scaling-stroke; fill: none; stroke: rgb(0, 0, 0); stroke-opacity: 1; stroke-width: 2px; opacity: 1;\"/></g><g class=\"points\"><path class=\"point\" transform=\"translate(231.84,126)\" d=\"M3,0A3,3 0 1,1 0,-3A3,3 0 0,1 3,0Z\" style=\"opacity: 1; stroke-width: 0px; fill: rgb(0, 0, 0); fill-opacity: 1;\"/><path class=\"point\" transform=\"translate(185.85,22.34)\" d=\"M3,0A3,3 0 1,1 0,-3A3,3 0 0,1 3,0Z\" style=\"opacity: 1; stroke-width: 0px; fill: rgb(0, 0, 0); fill-opacity: 1;\"/><path class=\"point\" transform=\"translate(68.67,26.7)\" d=\"M3,0A3,3 0 1,1 0,-3A3,3 0 0,1 3,0Z\" style=\"opacity: 1; stroke-width: 0px; fill: rgb(0, 0, 0); fill-opacity: 1;\"/><path class=\"point\" transform=\"translate(15.12,126)\" d=\"M3,0A3,3 0 1,1 0,-3A3,3 0 0,1 3,0Z\" style=\"opacity: 1; stroke-width: 0px; fill: rgb(0, 0, 0); fill-opacity: 1;\"/><path class=\"point\" transform=\"translate(68.04,226.39)\" d=\"M3,0A3,3 0 1,1 0,-3A3,3 0 0,1 3,0Z\" style=\"opacity: 1; stroke-width: 0px; fill: rgb(0, 0, 0); fill-opacity: 1;\"/><path class=\"point\" transform=\"translate(180.81,220.93)\" d=\"M3,0A3,3 0 1,1 0,-3A3,3 0 0,1 3,0Z\" style=\"opacity: 1; stroke-width: 0px; fill: rgb(0, 0, 0); fill-opacity: 1;\"/><path class=\"point\" transform=\"translate(231.84,126)\" d=\"M3,0A3,3 0 1,1 0,-3A3,3 0 0,1 3,0Z\" style=\"opacity: 1; stroke-width: 0px; fill: rgb(0, 0, 0); fill-opacity: 1;\"/></g><g class=\"text\"/></g></g></g><g class=\"polarsublayer angular-line\"><path d=\"M126.00000000000001,0A126.00000000000001,126.00000000000001 0,1,0 -126.00000000000001,-1.543054966925665e-14A126.00000000000001,126.00000000000001 0,1,0 126.00000000000001,3.08610993385133e-14Z\" transform=\"translate(350,235)\" stroke-width=\"1\" style=\"fill: none; stroke: rgb(68, 68, 68); stroke-opacity: 1;\"/></g><g class=\"polarsublayer radial-line\"><line x1=\"0\" y1=\"0\" x2=\"126.00000000000001\" y2=\"0\" transform=\"translate(350,235)\" stroke-width=\"1\" style=\"fill: none; stroke: rgb(68, 68, 68); stroke-opacity: 1;\"/></g><g class=\"polarsublayer angular-axis\"><path class=\"angularaxistick ticks\" d=\"M0.5,0h5\" transform=\"translate(476,235)\" style=\"stroke: rgb(68, 68, 68); stroke-opacity: 1; stroke-width: 1px;\"/><path class=\"angularaxistick ticks\" d=\"M0.5,0h5\" transform=\"translate(413,125.88079912316073)rotate(-60)\" style=\"stroke: rgb(68, 68, 68); stroke-opacity: 1; stroke-width: 1px;\"/><path class=\"angularaxistick ticks\" d=\"M0.5,0h5\" transform=\"translate(287,125.88079912316071)rotate(-120)\" style=\"stroke: rgb(68, 68, 68); stroke-opacity: 1; stroke-width: 1px;\"/><path class=\"angularaxistick ticks\" d=\"M0.5,0h5\" transform=\"translate(224,234.99999999999997)rotate(-180)\" style=\"stroke: rgb(68, 68, 68); stroke-opacity: 1; stroke-width: 1px;\"/><path class=\"angularaxistick ticks\" d=\"M0.5,0h5\" transform=\"translate(286.99999999999994,344.1192008768393)rotate(-240)\" style=\"stroke: rgb(68, 68, 68); stroke-opacity: 1; stroke-width: 1px;\"/><path class=\"angularaxistick ticks\" d=\"M0.5,0h5\" transform=\"translate(413,344.1192008768393)rotate(-300)\" style=\"stroke: rgb(68, 68, 68); stroke-opacity: 1; stroke-width: 1px;\"/><g class=\"angularaxistick\"><text text-anchor=\"start\" x=\"8.3\" y=\"4.8999999999999995\" transform=\"translate(476,235)\" style=\"font-family: Arials; font-size: 14px; fill: rgb(0, 0, 0); fill-opacity: 1; white-space: pre;\">Crossing</text></g><g class=\"angularaxistick\"><text text-anchor=\"start\" x=\"4.150000000000001\" y=\"-7.16288198200727\" transform=\"translate(413,125.88079912316073)\" style=\"font-family: Arials; font-size: 14px; fill: rgb(0, 0, 0); fill-opacity: 1; white-space: pre;\">Finishing</text></g><g class=\"angularaxistick\"><text text-anchor=\"end\" x=\"-4.149999999999999\" y=\"-7.162881982007272\" transform=\"translate(287,125.88079912316071)\" style=\"font-family: Arials; font-size: 14px; fill: rgb(0, 0, 0); fill-opacity: 1; white-space: pre;\">Sprint Speed</text></g><g class=\"angularaxistick\"><text text-anchor=\"end\" x=\"-8.3\" y=\"4.899999999999998\" transform=\"translate(224,234.99999999999997)\" style=\"font-family: Arials; font-size: 14px; fill: rgb(0, 0, 0); fill-opacity: 1; white-space: pre;\">Dribbling</text></g><g class=\"angularaxistick\"><text text-anchor=\"end\" x=\"-4.150000000000004\" y=\"21.762366504392983\" transform=\"translate(286.99999999999994,344.1192008768393)\" style=\"font-family: Arials; font-size: 14px; fill: rgb(0, 0, 0); fill-opacity: 1; white-space: pre;\">Ball Control</text></g><g class=\"angularaxistick\"><text text-anchor=\"start\" x=\"4.150000000000001\" y=\"21.76236650439298\" transform=\"translate(413,344.1192008768393)\" style=\"font-family: Arials; font-size: 14px; fill: rgb(0, 0, 0); fill-opacity: 1; white-space: pre;\">Acceleration</text></g></g><g class=\"polarsublayer radial-axis\" transform=\"translate(350,235)\"><path class=\"xtick ticks\" d=\"M0,0.5v5\" transform=\"\" style=\"stroke: rgb(68, 68, 68); stroke-opacity: 1; stroke-width: 1px;\"/><path class=\"xtick ticks\" d=\"M0,0.5v5\" transform=\"translate(25.2,0)\" style=\"stroke: rgb(68, 68, 68); stroke-opacity: 1; stroke-width: 1px;\"/><path class=\"xtick ticks\" d=\"M0,0.5v5\" transform=\"translate(50.4,0)\" style=\"stroke: rgb(68, 68, 68); stroke-opacity: 1; stroke-width: 1px;\"/><path class=\"xtick ticks\" d=\"M0,0.5v5\" transform=\"translate(75.6,0)\" style=\"stroke: rgb(68, 68, 68); stroke-opacity: 1; stroke-width: 1px;\"/><path class=\"xtick ticks\" d=\"M0,0.5v5\" transform=\"translate(100.8,0)\" style=\"stroke: rgb(68, 68, 68); stroke-opacity: 1; stroke-width: 1px;\"/><path class=\"xtick ticks\" d=\"M0,0.5v5\" transform=\"translate(126,0)\" style=\"stroke: rgb(68, 68, 68); stroke-opacity: 1; stroke-width: 1px;\"/><g class=\"xtick\"><text text-anchor=\"middle\" x=\"0\" y=\"22.3\" transform=\"\" style=\"font-family: Arials; font-size: 14px; fill: rgb(0, 0, 0); fill-opacity: 1; white-space: pre;\">0</text></g><g class=\"xtick\"><text text-anchor=\"middle\" x=\"0\" y=\"22.3\" transform=\"translate(25.2,0)\" style=\"font-family: Arials; font-size: 14px; fill: rgb(0, 0, 0); fill-opacity: 1; white-space: pre;\">20</text></g><g class=\"xtick\"><text text-anchor=\"middle\" x=\"0\" y=\"22.3\" transform=\"translate(50.4,0)\" style=\"font-family: Arials; font-size: 14px; fill: rgb(0, 0, 0); fill-opacity: 1; white-space: pre;\">40</text></g><g class=\"xtick\"><text text-anchor=\"middle\" x=\"0\" y=\"22.3\" transform=\"translate(75.6,0)\" style=\"font-family: Arials; font-size: 14px; fill: rgb(0, 0, 0); fill-opacity: 1; white-space: pre;\">60</text></g><g class=\"xtick\"><text text-anchor=\"middle\" x=\"0\" y=\"22.3\" transform=\"translate(100.8,0)\" style=\"font-family: Arials; font-size: 14px; fill: rgb(0, 0, 0); fill-opacity: 1; white-space: pre;\">80</text></g><g class=\"xtick\"><text text-anchor=\"middle\" x=\"0\" y=\"22.3\" transform=\"translate(126,0)\" style=\"font-family: Arials; font-size: 14px; fill: rgb(0, 0, 0); fill-opacity: 1; white-space: pre;\">100</text></g></g></g></g><g class=\"ternarylayer\"/><g class=\"geolayer\"/><g class=\"funnelarealayer\"/><g class=\"pielayer\"/><g class=\"treemaplayer\"/><g class=\"sunburstlayer\"/><g class=\"glimages\"/><defs id=\"topdefs-ada035\"><g class=\"clips\"/></defs><g class=\"layer-above\"><g class=\"imagelayer\"/><g class=\"shapelayer\"/></g><g class=\"infolayer\"><g class=\"g-gtitle\"><text class=\"gtitle\" x=\"350\" y=\"50\" text-anchor=\"middle\" dy=\"0em\" style=\"font-family: Arials; font-size: 20px; fill: rgb(0, 0, 0); opacity: 1; font-weight: normal; white-space: pre;\"><tspan class=\"line\" dy=\"0em\" x=\"350\" y=\"50\"><tspan style=\"font-weight:bold\">C. Ronaldo dos Santos Aveiro</tspan></tspan><tspan class=\"line\" dy=\"1.3em\" x=\"350\" y=\"50\">​<tspan style=\"font-size:70%\" dy=\"0.3em\">Left Striker in Juventus</tspan><tspan dy=\"-0.21em\">​</tspan></tspan></text></g><g class=\"g-polartitle\"/></g></svg>"
      ]
     },
     "metadata": {},
     "output_type": "display_data"
    }
   ],
   "source": [
    "create_polarcharts([84, 95, 91, 88, 92, 87, 84], \n",
    "                   'Black',\n",
    "                    'C. Ronaldo dos Santos Aveiro',\n",
    "                   'Left Striker in Juventus')"
   ]
  },
  {
   "cell_type": "markdown",
   "metadata": {},
   "source": [
    "Ronaldo has all the parameters at a high level."
   ]
  },
  {
   "cell_type": "markdown",
   "metadata": {},
   "source": [
    "#### Neymar da Silva Santos Jr."
   ]
  },
  {
   "cell_type": "code",
   "execution_count": 7,
   "metadata": {},
   "outputs": [
    {
     "data": {
      "image/svg+xml": [
       "<svg class=\"main-svg\" xmlns=\"http://www.w3.org/2000/svg\" xmlns:xlink=\"http://www.w3.org/1999/xlink\" width=\"700\" height=\"450\" style=\"\" viewBox=\"0 0 700 450\"><rect x=\"0\" y=\"0\" width=\"700\" height=\"450\" style=\"fill: rgb(223, 223, 223); fill-opacity: 1;\"/><defs id=\"defs-d4964f\"><g class=\"clips\"><clipPath id=\"clipd4964fpolar-for-traces\"><path d=\"M126.00000000000001,0A126.00000000000001,126.00000000000001 0,1,0 -126.00000000000001,-1.543054966925665e-14A126.00000000000001,126.00000000000001 0,1,0 126.00000000000001,3.08610993385133e-14Z\" transform=\"translate(126,126)\"/></clipPath></g><g class=\"gradients\"/></defs><g class=\"bglayer\"/><g class=\"layer-below\"><g class=\"imagelayer\"/><g class=\"shapelayer\"/></g><g class=\"cartesianlayer\"/><g class=\"polarlayer\"><g class=\"polar\"><g class=\"polarsublayer draglayer\"/><g class=\"polarsublayer plotbg\"><path d=\"M126.00000000000001,0A126.00000000000001,126.00000000000001 0,1,0 -126.00000000000001,-1.543054966925665e-14A126.00000000000001,126.00000000000001 0,1,0 126.00000000000001,3.08610993385133e-14Z\" transform=\"translate(350,235)\" style=\"fill: rgb(223, 223, 223); fill-opacity: 1;\"/></g><g class=\"polarsublayer backplot\"><g class=\"maplayer\"/></g><g class=\"polarsublayer angular-grid\" style=\"fill: none;\"><path class=\"angularaxisgrid\" d=\"M350,235L476,235\" style=\"stroke: rgb(161, 161, 161); stroke-opacity: 1; stroke-width: 1px;\"/><path class=\"angularaxisgrid\" d=\"M350,235L413,125.88079912316073\" style=\"stroke: rgb(161, 161, 161); stroke-opacity: 1; stroke-width: 1px;\"/><path class=\"angularaxisgrid\" d=\"M350,235L287,125.88079912316071\" style=\"stroke: rgb(161, 161, 161); stroke-opacity: 1; stroke-width: 1px;\"/><path class=\"angularaxisgrid\" d=\"M350,235L224,234.99999999999997\" style=\"stroke: rgb(161, 161, 161); stroke-opacity: 1; stroke-width: 1px;\"/><path class=\"angularaxisgrid\" d=\"M350,235L286.99999999999994,344.1192008768393\" style=\"stroke: rgb(161, 161, 161); stroke-opacity: 1; stroke-width: 1px;\"/><path class=\"angularaxisgrid\" d=\"M350,235L413,344.1192008768393\" style=\"stroke: rgb(161, 161, 161); stroke-opacity: 1; stroke-width: 1px;\"/></g><g class=\"polarsublayer radial-grid\" transform=\"translate(350,235)\" style=\"fill: none;\"><path class=\"xgrid\" d=\"M25.2,0A25.2,25.2 0,1,0 -25.2,-3.08610993385133e-15A25.2,25.2 0,1,0 25.2,6.17221986770266e-15Z\" style=\"stroke: rgb(161, 161, 161); stroke-opacity: 1; stroke-width: 1px;\"/><path class=\"xgrid\" d=\"M50.4,0A50.4,50.4 0,1,0 -50.4,-6.17221986770266e-15A50.4,50.4 0,1,0 50.4,1.234443973540532e-14Z\" style=\"stroke: rgb(161, 161, 161); stroke-opacity: 1; stroke-width: 1px;\"/><path class=\"xgrid\" d=\"M75.6,0A75.6,75.6 0,1,0 -75.6,-9.258329801553989e-15A75.6,75.6 0,1,0 75.6,1.8516659603107978e-14Z\" style=\"stroke: rgb(161, 161, 161); stroke-opacity: 1; stroke-width: 1px;\"/><path class=\"xgrid\" d=\"M100.8,0A100.8,100.8 0,1,0 -100.8,-1.234443973540532e-14A100.8,100.8 0,1,0 100.8,2.468887947081064e-14Z\" style=\"stroke: rgb(161, 161, 161); stroke-opacity: 1; stroke-width: 1px;\"/></g><g class=\"polarsublayer frontplot\" transform=\"translate(224,109)\"><g class=\"barlayer\"/><g class=\"scatterlayer\"><g class=\"trace scatter trace0e86c0\" style=\"stroke-miterlimit: 2; opacity: 1;\"><g class=\"fills\" clip-path=\"url('#clipd4964fpolar-for-traces')\"><g><path class=\"js-fill\" d=\"M233.1,126L180.81,31.07L69.93,28.88L6.3,126L66.15,229.66L185.22,228.57L233.1,126Z\" style=\"fill: rgb(0, 0, 255); fill-opacity: 0.5; stroke-width: 0;\"/></g></g><g class=\"errorbars\"/><g class=\"lines\"><path class=\"js-line\" d=\"M233.1,126L180.81,31.07L69.93,28.88L6.3,126L66.15,229.66L185.22,228.57L233.1,126\" clip-path=\"url('#clipd4964fpolar-for-traces')\" style=\"vector-effect: non-scaling-stroke; fill: none; stroke: rgb(0, 0, 255); stroke-opacity: 1; stroke-width: 2px; opacity: 1;\"/></g><g class=\"points\"><path class=\"point\" transform=\"translate(233.1,126)\" d=\"M3,0A3,3 0 1,1 0,-3A3,3 0 0,1 3,0Z\" style=\"opacity: 1; stroke-width: 0px; fill: rgb(0, 0, 255); fill-opacity: 1;\"/><path class=\"point\" transform=\"translate(180.81,31.07)\" d=\"M3,0A3,3 0 1,1 0,-3A3,3 0 0,1 3,0Z\" style=\"opacity: 1; stroke-width: 0px; fill: rgb(0, 0, 255); fill-opacity: 1;\"/><path class=\"point\" transform=\"translate(69.93,28.88)\" d=\"M3,0A3,3 0 1,1 0,-3A3,3 0 0,1 3,0Z\" style=\"opacity: 1; stroke-width: 0px; fill: rgb(0, 0, 255); fill-opacity: 1;\"/><path class=\"point\" transform=\"translate(6.3,126)\" d=\"M3,0A3,3 0 1,1 0,-3A3,3 0 0,1 3,0Z\" style=\"opacity: 1; stroke-width: 0px; fill: rgb(0, 0, 255); fill-opacity: 1;\"/><path class=\"point\" transform=\"translate(66.15,229.66)\" d=\"M3,0A3,3 0 1,1 0,-3A3,3 0 0,1 3,0Z\" style=\"opacity: 1; stroke-width: 0px; fill: rgb(0, 0, 255); fill-opacity: 1;\"/><path class=\"point\" transform=\"translate(185.22,228.57)\" d=\"M3,0A3,3 0 1,1 0,-3A3,3 0 0,1 3,0Z\" style=\"opacity: 1; stroke-width: 0px; fill: rgb(0, 0, 255); fill-opacity: 1;\"/><path class=\"point\" transform=\"translate(233.1,126)\" d=\"M3,0A3,3 0 1,1 0,-3A3,3 0 0,1 3,0Z\" style=\"opacity: 1; stroke-width: 0px; fill: rgb(0, 0, 255); fill-opacity: 1;\"/></g><g class=\"text\"/></g></g></g><g class=\"polarsublayer angular-line\"><path d=\"M126.00000000000001,0A126.00000000000001,126.00000000000001 0,1,0 -126.00000000000001,-1.543054966925665e-14A126.00000000000001,126.00000000000001 0,1,0 126.00000000000001,3.08610993385133e-14Z\" transform=\"translate(350,235)\" stroke-width=\"1\" style=\"fill: none; stroke: rgb(68, 68, 68); stroke-opacity: 1;\"/></g><g class=\"polarsublayer radial-line\"><line x1=\"0\" y1=\"0\" x2=\"126.00000000000001\" y2=\"0\" transform=\"translate(350,235)\" stroke-width=\"1\" style=\"fill: none; stroke: rgb(68, 68, 68); stroke-opacity: 1;\"/></g><g class=\"polarsublayer angular-axis\"><path class=\"angularaxistick ticks\" d=\"M0.5,0h5\" transform=\"translate(476,235)\" style=\"stroke: rgb(68, 68, 68); stroke-opacity: 1; stroke-width: 1px;\"/><path class=\"angularaxistick ticks\" d=\"M0.5,0h5\" transform=\"translate(413,125.88079912316073)rotate(-60)\" style=\"stroke: rgb(68, 68, 68); stroke-opacity: 1; stroke-width: 1px;\"/><path class=\"angularaxistick ticks\" d=\"M0.5,0h5\" transform=\"translate(287,125.88079912316071)rotate(-120)\" style=\"stroke: rgb(68, 68, 68); stroke-opacity: 1; stroke-width: 1px;\"/><path class=\"angularaxistick ticks\" d=\"M0.5,0h5\" transform=\"translate(224,234.99999999999997)rotate(-180)\" style=\"stroke: rgb(68, 68, 68); stroke-opacity: 1; stroke-width: 1px;\"/><path class=\"angularaxistick ticks\" d=\"M0.5,0h5\" transform=\"translate(286.99999999999994,344.1192008768393)rotate(-240)\" style=\"stroke: rgb(68, 68, 68); stroke-opacity: 1; stroke-width: 1px;\"/><path class=\"angularaxistick ticks\" d=\"M0.5,0h5\" transform=\"translate(413,344.1192008768393)rotate(-300)\" style=\"stroke: rgb(68, 68, 68); stroke-opacity: 1; stroke-width: 1px;\"/><g class=\"angularaxistick\"><text text-anchor=\"start\" x=\"8.3\" y=\"4.8999999999999995\" transform=\"translate(476,235)\" style=\"font-family: Arials; font-size: 14px; fill: rgb(0, 0, 0); fill-opacity: 1; white-space: pre;\">Crossing</text></g><g class=\"angularaxistick\"><text text-anchor=\"start\" x=\"4.150000000000001\" y=\"-7.16288198200727\" transform=\"translate(413,125.88079912316073)\" style=\"font-family: Arials; font-size: 14px; fill: rgb(0, 0, 0); fill-opacity: 1; white-space: pre;\">Finishing</text></g><g class=\"angularaxistick\"><text text-anchor=\"end\" x=\"-4.149999999999999\" y=\"-7.162881982007272\" transform=\"translate(287,125.88079912316071)\" style=\"font-family: Arials; font-size: 14px; fill: rgb(0, 0, 0); fill-opacity: 1; white-space: pre;\">Sprint Speed</text></g><g class=\"angularaxistick\"><text text-anchor=\"end\" x=\"-8.3\" y=\"4.899999999999998\" transform=\"translate(224,234.99999999999997)\" style=\"font-family: Arials; font-size: 14px; fill: rgb(0, 0, 0); fill-opacity: 1; white-space: pre;\">Dribbling</text></g><g class=\"angularaxistick\"><text text-anchor=\"end\" x=\"-4.150000000000004\" y=\"21.762366504392983\" transform=\"translate(286.99999999999994,344.1192008768393)\" style=\"font-family: Arials; font-size: 14px; fill: rgb(0, 0, 0); fill-opacity: 1; white-space: pre;\">Ball Control</text></g><g class=\"angularaxistick\"><text text-anchor=\"start\" x=\"4.150000000000001\" y=\"21.76236650439298\" transform=\"translate(413,344.1192008768393)\" style=\"font-family: Arials; font-size: 14px; fill: rgb(0, 0, 0); fill-opacity: 1; white-space: pre;\">Acceleration</text></g></g><g class=\"polarsublayer radial-axis\" transform=\"translate(350,235)\"><path class=\"xtick ticks\" d=\"M0,0.5v5\" transform=\"\" style=\"stroke: rgb(68, 68, 68); stroke-opacity: 1; stroke-width: 1px;\"/><path class=\"xtick ticks\" d=\"M0,0.5v5\" transform=\"translate(25.2,0)\" style=\"stroke: rgb(68, 68, 68); stroke-opacity: 1; stroke-width: 1px;\"/><path class=\"xtick ticks\" d=\"M0,0.5v5\" transform=\"translate(50.4,0)\" style=\"stroke: rgb(68, 68, 68); stroke-opacity: 1; stroke-width: 1px;\"/><path class=\"xtick ticks\" d=\"M0,0.5v5\" transform=\"translate(75.6,0)\" style=\"stroke: rgb(68, 68, 68); stroke-opacity: 1; stroke-width: 1px;\"/><path class=\"xtick ticks\" d=\"M0,0.5v5\" transform=\"translate(100.8,0)\" style=\"stroke: rgb(68, 68, 68); stroke-opacity: 1; stroke-width: 1px;\"/><path class=\"xtick ticks\" d=\"M0,0.5v5\" transform=\"translate(126,0)\" style=\"stroke: rgb(68, 68, 68); stroke-opacity: 1; stroke-width: 1px;\"/><g class=\"xtick\"><text text-anchor=\"middle\" x=\"0\" y=\"22.3\" transform=\"\" style=\"font-family: Arials; font-size: 14px; fill: rgb(0, 0, 0); fill-opacity: 1; white-space: pre;\">0</text></g><g class=\"xtick\"><text text-anchor=\"middle\" x=\"0\" y=\"22.3\" transform=\"translate(25.2,0)\" style=\"font-family: Arials; font-size: 14px; fill: rgb(0, 0, 0); fill-opacity: 1; white-space: pre;\">20</text></g><g class=\"xtick\"><text text-anchor=\"middle\" x=\"0\" y=\"22.3\" transform=\"translate(50.4,0)\" style=\"font-family: Arials; font-size: 14px; fill: rgb(0, 0, 0); fill-opacity: 1; white-space: pre;\">40</text></g><g class=\"xtick\"><text text-anchor=\"middle\" x=\"0\" y=\"22.3\" transform=\"translate(75.6,0)\" style=\"font-family: Arials; font-size: 14px; fill: rgb(0, 0, 0); fill-opacity: 1; white-space: pre;\">60</text></g><g class=\"xtick\"><text text-anchor=\"middle\" x=\"0\" y=\"22.3\" transform=\"translate(100.8,0)\" style=\"font-family: Arials; font-size: 14px; fill: rgb(0, 0, 0); fill-opacity: 1; white-space: pre;\">80</text></g><g class=\"xtick\"><text text-anchor=\"middle\" x=\"0\" y=\"22.3\" transform=\"translate(126,0)\" style=\"font-family: Arials; font-size: 14px; fill: rgb(0, 0, 0); fill-opacity: 1; white-space: pre;\">100</text></g></g></g></g><g class=\"ternarylayer\"/><g class=\"geolayer\"/><g class=\"funnelarealayer\"/><g class=\"pielayer\"/><g class=\"treemaplayer\"/><g class=\"sunburstlayer\"/><g class=\"glimages\"/><defs id=\"topdefs-d4964f\"><g class=\"clips\"/></defs><g class=\"layer-above\"><g class=\"imagelayer\"/><g class=\"shapelayer\"/></g><g class=\"infolayer\"><g class=\"g-gtitle\"><text class=\"gtitle\" x=\"350\" y=\"50\" text-anchor=\"middle\" dy=\"0em\" style=\"font-family: Arials; font-size: 20px; fill: rgb(0, 0, 0); opacity: 1; font-weight: normal; white-space: pre;\"><tspan class=\"line\" dy=\"0em\" x=\"350\" y=\"50\"><tspan style=\"font-weight:bold\">Neymar da Silva Santos Jr.</tspan></tspan><tspan class=\"line\" dy=\"1.3em\" x=\"350\" y=\"50\">​<tspan style=\"font-size:70%\" dy=\"0.3em\">Central Attacking Midfielder in Paris Saint-German</tspan><tspan dy=\"-0.21em\">​</tspan></tspan></text></g><g class=\"g-polartitle\"/></g></svg>"
      ]
     },
     "metadata": {},
     "output_type": "display_data"
    }
   ],
   "source": [
    "create_polarcharts([85, 87, 89, 95, 95, 94, 85], \n",
    "                   'Blue',\n",
    "                  'Neymar da Silva Santos Jr.',\n",
    "                   'Central Attacking Midfielder in Paris Saint-German')"
   ]
  },
  {
   "cell_type": "markdown",
   "metadata": {},
   "source": [
    "Neymar has an excellent Dribbling, Ball Control, and Acceleration."
   ]
  },
  {
   "cell_type": "markdown",
   "metadata": {},
   "source": [
    "#### Kylian Mbappé"
   ]
  },
  {
   "cell_type": "code",
   "execution_count": 8,
   "metadata": {},
   "outputs": [
    {
     "data": {
      "image/svg+xml": [
       "<svg class=\"main-svg\" xmlns=\"http://www.w3.org/2000/svg\" xmlns:xlink=\"http://www.w3.org/1999/xlink\" width=\"700\" height=\"450\" style=\"\" viewBox=\"0 0 700 450\"><rect x=\"0\" y=\"0\" width=\"700\" height=\"450\" style=\"fill: rgb(223, 223, 223); fill-opacity: 1;\"/><defs id=\"defs-0aef3d\"><g class=\"clips\"><clipPath id=\"clip0aef3dpolar-for-traces\"><path d=\"M126.00000000000001,0A126.00000000000001,126.00000000000001 0,1,0 -126.00000000000001,-1.543054966925665e-14A126.00000000000001,126.00000000000001 0,1,0 126.00000000000001,3.08610993385133e-14Z\" transform=\"translate(126,126)\"/></clipPath></g><g class=\"gradients\"/></defs><g class=\"bglayer\"/><g class=\"layer-below\"><g class=\"imagelayer\"/><g class=\"shapelayer\"/></g><g class=\"cartesianlayer\"/><g class=\"polarlayer\"><g class=\"polar\"><g class=\"polarsublayer draglayer\"/><g class=\"polarsublayer plotbg\"><path d=\"M126.00000000000001,0A126.00000000000001,126.00000000000001 0,1,0 -126.00000000000001,-1.543054966925665e-14A126.00000000000001,126.00000000000001 0,1,0 126.00000000000001,3.08610993385133e-14Z\" transform=\"translate(350,235)\" style=\"fill: rgb(223, 223, 223); fill-opacity: 1;\"/></g><g class=\"polarsublayer backplot\"><g class=\"maplayer\"/></g><g class=\"polarsublayer angular-grid\" style=\"fill: none;\"><path class=\"angularaxisgrid\" d=\"M350,235L476,235\" style=\"stroke: rgb(161, 161, 161); stroke-opacity: 1; stroke-width: 1px;\"/><path class=\"angularaxisgrid\" d=\"M350,235L413,125.88079912316073\" style=\"stroke: rgb(161, 161, 161); stroke-opacity: 1; stroke-width: 1px;\"/><path class=\"angularaxisgrid\" d=\"M350,235L287,125.88079912316071\" style=\"stroke: rgb(161, 161, 161); stroke-opacity: 1; stroke-width: 1px;\"/><path class=\"angularaxisgrid\" d=\"M350,235L224,234.99999999999997\" style=\"stroke: rgb(161, 161, 161); stroke-opacity: 1; stroke-width: 1px;\"/><path class=\"angularaxisgrid\" d=\"M350,235L286.99999999999994,344.1192008768393\" style=\"stroke: rgb(161, 161, 161); stroke-opacity: 1; stroke-width: 1px;\"/><path class=\"angularaxisgrid\" d=\"M350,235L413,344.1192008768393\" style=\"stroke: rgb(161, 161, 161); stroke-opacity: 1; stroke-width: 1px;\"/></g><g class=\"polarsublayer radial-grid\" transform=\"translate(350,235)\" style=\"fill: none;\"><path class=\"xgrid\" d=\"M25.2,0A25.2,25.2 0,1,0 -25.2,-3.08610993385133e-15A25.2,25.2 0,1,0 25.2,6.17221986770266e-15Z\" style=\"stroke: rgb(161, 161, 161); stroke-opacity: 1; stroke-width: 1px;\"/><path class=\"xgrid\" d=\"M50.4,0A50.4,50.4 0,1,0 -50.4,-6.17221986770266e-15A50.4,50.4 0,1,0 50.4,1.234443973540532e-14Z\" style=\"stroke: rgb(161, 161, 161); stroke-opacity: 1; stroke-width: 1px;\"/><path class=\"xgrid\" d=\"M75.6,0A75.6,75.6 0,1,0 -75.6,-9.258329801553989e-15A75.6,75.6 0,1,0 75.6,1.8516659603107978e-14Z\" style=\"stroke: rgb(161, 161, 161); stroke-opacity: 1; stroke-width: 1px;\"/><path class=\"xgrid\" d=\"M100.8,0A100.8,100.8 0,1,0 -100.8,-1.234443973540532e-14A100.8,100.8 0,1,0 100.8,2.468887947081064e-14Z\" style=\"stroke: rgb(161, 161, 161); stroke-opacity: 1; stroke-width: 1px;\"/></g><g class=\"polarsublayer frontplot\" transform=\"translate(224,109)\"><g class=\"barlayer\"/><g class=\"scatterlayer\"><g class=\"trace scatter tracec90222\" style=\"stroke-miterlimit: 2; opacity: 1;\"><g class=\"fills\" clip-path=\"url('#clip0aef3dpolar-for-traces')\"><g><path class=\"js-fill\" d=\"M224.28,126L183.33,26.7L65.52,21.25L10.08,126L69.3,224.21L186.48,230.75L224.28,126Z\" style=\"fill: rgb(0, 128, 0); fill-opacity: 0.5; stroke-width: 0;\"/></g></g><g class=\"errorbars\"/><g class=\"lines\"><path class=\"js-line\" d=\"M224.28,126L183.33,26.7L65.52,21.25L10.08,126L69.3,224.21L186.48,230.75L224.28,126\" clip-path=\"url('#clip0aef3dpolar-for-traces')\" style=\"vector-effect: non-scaling-stroke; fill: none; stroke: rgb(0, 128, 0); stroke-opacity: 1; stroke-width: 2px; opacity: 1;\"/></g><g class=\"points\"><path class=\"point\" transform=\"translate(224.28,126)\" d=\"M3,0A3,3 0 1,1 0,-3A3,3 0 0,1 3,0Z\" style=\"opacity: 1; stroke-width: 0px; fill: rgb(0, 128, 0); fill-opacity: 1;\"/><path class=\"point\" transform=\"translate(183.33,26.7)\" d=\"M3,0A3,3 0 1,1 0,-3A3,3 0 0,1 3,0Z\" style=\"opacity: 1; stroke-width: 0px; fill: rgb(0, 128, 0); fill-opacity: 1;\"/><path class=\"point\" transform=\"translate(65.52,21.25)\" d=\"M3,0A3,3 0 1,1 0,-3A3,3 0 0,1 3,0Z\" style=\"opacity: 1; stroke-width: 0px; fill: rgb(0, 128, 0); fill-opacity: 1;\"/><path class=\"point\" transform=\"translate(10.08,126)\" d=\"M3,0A3,3 0 1,1 0,-3A3,3 0 0,1 3,0Z\" style=\"opacity: 1; stroke-width: 0px; fill: rgb(0, 128, 0); fill-opacity: 1;\"/><path class=\"point\" transform=\"translate(69.3,224.21)\" d=\"M3,0A3,3 0 1,1 0,-3A3,3 0 0,1 3,0Z\" style=\"opacity: 1; stroke-width: 0px; fill: rgb(0, 128, 0); fill-opacity: 1;\"/><path class=\"point\" transform=\"translate(186.48,230.75)\" d=\"M3,0A3,3 0 1,1 0,-3A3,3 0 0,1 3,0Z\" style=\"opacity: 1; stroke-width: 0px; fill: rgb(0, 128, 0); fill-opacity: 1;\"/><path class=\"point\" transform=\"translate(224.28,126)\" d=\"M3,0A3,3 0 1,1 0,-3A3,3 0 0,1 3,0Z\" style=\"opacity: 1; stroke-width: 0px; fill: rgb(0, 128, 0); fill-opacity: 1;\"/></g><g class=\"text\"/></g></g></g><g class=\"polarsublayer angular-line\"><path d=\"M126.00000000000001,0A126.00000000000001,126.00000000000001 0,1,0 -126.00000000000001,-1.543054966925665e-14A126.00000000000001,126.00000000000001 0,1,0 126.00000000000001,3.08610993385133e-14Z\" transform=\"translate(350,235)\" stroke-width=\"1\" style=\"fill: none; stroke: rgb(68, 68, 68); stroke-opacity: 1;\"/></g><g class=\"polarsublayer radial-line\"><line x1=\"0\" y1=\"0\" x2=\"126.00000000000001\" y2=\"0\" transform=\"translate(350,235)\" stroke-width=\"1\" style=\"fill: none; stroke: rgb(68, 68, 68); stroke-opacity: 1;\"/></g><g class=\"polarsublayer angular-axis\"><path class=\"angularaxistick ticks\" d=\"M0.5,0h5\" transform=\"translate(476,235)\" style=\"stroke: rgb(68, 68, 68); stroke-opacity: 1; stroke-width: 1px;\"/><path class=\"angularaxistick ticks\" d=\"M0.5,0h5\" transform=\"translate(413,125.88079912316073)rotate(-60)\" style=\"stroke: rgb(68, 68, 68); stroke-opacity: 1; stroke-width: 1px;\"/><path class=\"angularaxistick ticks\" d=\"M0.5,0h5\" transform=\"translate(287,125.88079912316071)rotate(-120)\" style=\"stroke: rgb(68, 68, 68); stroke-opacity: 1; stroke-width: 1px;\"/><path class=\"angularaxistick ticks\" d=\"M0.5,0h5\" transform=\"translate(224,234.99999999999997)rotate(-180)\" style=\"stroke: rgb(68, 68, 68); stroke-opacity: 1; stroke-width: 1px;\"/><path class=\"angularaxistick ticks\" d=\"M0.5,0h5\" transform=\"translate(286.99999999999994,344.1192008768393)rotate(-240)\" style=\"stroke: rgb(68, 68, 68); stroke-opacity: 1; stroke-width: 1px;\"/><path class=\"angularaxistick ticks\" d=\"M0.5,0h5\" transform=\"translate(413,344.1192008768393)rotate(-300)\" style=\"stroke: rgb(68, 68, 68); stroke-opacity: 1; stroke-width: 1px;\"/><g class=\"angularaxistick\"><text text-anchor=\"start\" x=\"8.3\" y=\"4.8999999999999995\" transform=\"translate(476,235)\" style=\"font-family: Arials; font-size: 14px; fill: rgb(0, 0, 0); fill-opacity: 1; white-space: pre;\">Crossing</text></g><g class=\"angularaxistick\"><text text-anchor=\"start\" x=\"4.150000000000001\" y=\"-7.16288198200727\" transform=\"translate(413,125.88079912316073)\" style=\"font-family: Arials; font-size: 14px; fill: rgb(0, 0, 0); fill-opacity: 1; white-space: pre;\">Finishing</text></g><g class=\"angularaxistick\"><text text-anchor=\"end\" x=\"-4.149999999999999\" y=\"-7.162881982007272\" transform=\"translate(287,125.88079912316071)\" style=\"font-family: Arials; font-size: 14px; fill: rgb(0, 0, 0); fill-opacity: 1; white-space: pre;\">Sprint Speed</text></g><g class=\"angularaxistick\"><text text-anchor=\"end\" x=\"-8.3\" y=\"4.899999999999998\" transform=\"translate(224,234.99999999999997)\" style=\"font-family: Arials; font-size: 14px; fill: rgb(0, 0, 0); fill-opacity: 1; white-space: pre;\">Dribbling</text></g><g class=\"angularaxistick\"><text text-anchor=\"end\" x=\"-4.150000000000004\" y=\"21.762366504392983\" transform=\"translate(286.99999999999994,344.1192008768393)\" style=\"font-family: Arials; font-size: 14px; fill: rgb(0, 0, 0); fill-opacity: 1; white-space: pre;\">Ball Control</text></g><g class=\"angularaxistick\"><text text-anchor=\"start\" x=\"4.150000000000001\" y=\"21.76236650439298\" transform=\"translate(413,344.1192008768393)\" style=\"font-family: Arials; font-size: 14px; fill: rgb(0, 0, 0); fill-opacity: 1; white-space: pre;\">Acceleration</text></g></g><g class=\"polarsublayer radial-axis\" transform=\"translate(350,235)\"><path class=\"xtick ticks\" d=\"M0,0.5v5\" transform=\"\" style=\"stroke: rgb(68, 68, 68); stroke-opacity: 1; stroke-width: 1px;\"/><path class=\"xtick ticks\" d=\"M0,0.5v5\" transform=\"translate(25.2,0)\" style=\"stroke: rgb(68, 68, 68); stroke-opacity: 1; stroke-width: 1px;\"/><path class=\"xtick ticks\" d=\"M0,0.5v5\" transform=\"translate(50.4,0)\" style=\"stroke: rgb(68, 68, 68); stroke-opacity: 1; stroke-width: 1px;\"/><path class=\"xtick ticks\" d=\"M0,0.5v5\" transform=\"translate(75.6,0)\" style=\"stroke: rgb(68, 68, 68); stroke-opacity: 1; stroke-width: 1px;\"/><path class=\"xtick ticks\" d=\"M0,0.5v5\" transform=\"translate(100.8,0)\" style=\"stroke: rgb(68, 68, 68); stroke-opacity: 1; stroke-width: 1px;\"/><path class=\"xtick ticks\" d=\"M0,0.5v5\" transform=\"translate(126,0)\" style=\"stroke: rgb(68, 68, 68); stroke-opacity: 1; stroke-width: 1px;\"/><g class=\"xtick\"><text text-anchor=\"middle\" x=\"0\" y=\"22.3\" transform=\"\" style=\"font-family: Arials; font-size: 14px; fill: rgb(0, 0, 0); fill-opacity: 1; white-space: pre;\">0</text></g><g class=\"xtick\"><text text-anchor=\"middle\" x=\"0\" y=\"22.3\" transform=\"translate(25.2,0)\" style=\"font-family: Arials; font-size: 14px; fill: rgb(0, 0, 0); fill-opacity: 1; white-space: pre;\">20</text></g><g class=\"xtick\"><text text-anchor=\"middle\" x=\"0\" y=\"22.3\" transform=\"translate(50.4,0)\" style=\"font-family: Arials; font-size: 14px; fill: rgb(0, 0, 0); fill-opacity: 1; white-space: pre;\">40</text></g><g class=\"xtick\"><text text-anchor=\"middle\" x=\"0\" y=\"22.3\" transform=\"translate(75.6,0)\" style=\"font-family: Arials; font-size: 14px; fill: rgb(0, 0, 0); fill-opacity: 1; white-space: pre;\">60</text></g><g class=\"xtick\"><text text-anchor=\"middle\" x=\"0\" y=\"22.3\" transform=\"translate(100.8,0)\" style=\"font-family: Arials; font-size: 14px; fill: rgb(0, 0, 0); fill-opacity: 1; white-space: pre;\">80</text></g><g class=\"xtick\"><text text-anchor=\"middle\" x=\"0\" y=\"22.3\" transform=\"translate(126,0)\" style=\"font-family: Arials; font-size: 14px; fill: rgb(0, 0, 0); fill-opacity: 1; white-space: pre;\">100</text></g></g></g></g><g class=\"ternarylayer\"/><g class=\"geolayer\"/><g class=\"funnelarealayer\"/><g class=\"pielayer\"/><g class=\"treemaplayer\"/><g class=\"sunburstlayer\"/><g class=\"glimages\"/><defs id=\"topdefs-0aef3d\"><g class=\"clips\"/></defs><g class=\"layer-above\"><g class=\"imagelayer\"/><g class=\"shapelayer\"/></g><g class=\"infolayer\"><g class=\"g-gtitle\"><text class=\"gtitle\" x=\"350\" y=\"50\" text-anchor=\"middle\" dy=\"0em\" style=\"font-family: Arials; font-size: 20px; fill: rgb(0, 0, 0); opacity: 1; font-weight: normal; white-space: pre;\"><tspan class=\"line\" dy=\"0em\" x=\"350\" y=\"50\"><tspan style=\"font-weight:bold\">Kylian Mbappé</tspan></tspan><tspan class=\"line\" dy=\"1.3em\" x=\"350\" y=\"50\">​<tspan style=\"font-size:70%\" dy=\"0.3em\">Left Winger in Paris Saint-German</tspan><tspan dy=\"-0.21em\">​</tspan></tspan></text></g><g class=\"g-polartitle\"/></g></svg>"
      ]
     },
     "metadata": {},
     "output_type": "display_data"
    }
   ],
   "source": [
    "create_polarcharts([78, 91, 96, 92, 90, 96, 78], \n",
    "                   'Green',\n",
    "                  'Kylian Mbappé',\n",
    "                   'Left Winger in Paris Saint-German')"
   ]
  },
  {
   "cell_type": "markdown",
   "metadata": {},
   "source": [
    "Kylian has an excellent Dribbling, Sprint Speed, and Acceleration."
   ]
  },
  {
   "cell_type": "markdown",
   "metadata": {},
   "source": [
    "### PLAYER COMPARISON"
   ]
  },
  {
   "cell_type": "code",
   "execution_count": 9,
   "metadata": {},
   "outputs": [],
   "source": [
    "def compare_polarcharts(stats1: list, color1: str, stats2: list, color2: str, name_players: str):\n",
    "    \n",
    "    '''\n",
    "    The function accepts the following arguments:\n",
    "    \n",
    "        stats1 - takes a list of numeric values of characteristics for the first compared player\n",
    "        color1 - takes the color of the lines in the diagram for the first compared player\n",
    "        stats2 - takes a list of numeric values of characteristics for the second compared player\n",
    "        color2 - takes the color of the lines in the diagram for the second compared player        \n",
    "        name_players - takes the name of the compared players\n",
    "    \n",
    "    '''\n",
    "    \n",
    "    fig = make_subplots(rows=1, cols=3, \n",
    "                        specs=[[{'type': 'xy'}, {\"type\": \"polar\"}, {'type': 'xy'},]],\n",
    "                        column_widths=[0.3, 0.7, 0.3])\n",
    "\n",
    "    fig.add_trace(go.Scatterpolar(\n",
    "             r=stats1,\n",
    "             theta=['Crossing', 'Finishing', 'Sprint Speed', 'Dribbling', 'Ball Control', 'Acceleration', 'Crossing'],\n",
    "             fill='toself',\n",
    "             hovertemplate='<b>%{theta}</b>' + f'<b>: '+'%{r}',\n",
    "             showlegend=False,\n",
    "        name='',\n",
    "             line=dict(\n",
    "                       color=color1\n",
    "                       )\n",
    "    ),\n",
    "             row=1, col=2)\n",
    "\n",
    "    fig.add_trace(go.Scatterpolar(\n",
    "             r=stats2,\n",
    "             theta=['Crossing', 'Finishing', 'Sprint Speed', 'Dribbling', 'Ball Control', 'Acceleration', 'Crossing'],\n",
    "             fill='toself',\n",
    "             hovertemplate='<b>%{theta}</b>' + f'<b>: '+'%{r}',\n",
    "             showlegend=False,\n",
    "        name='',\n",
    "             line=dict(\n",
    "                       color=color2\n",
    "                       )\n",
    "    ),\n",
    "             row=1, col=2)\n",
    "\n",
    "\n",
    "    fig.layout.images = [dict(\n",
    "            xref=\"paper\", \n",
    "            yref=\"paper\",\n",
    "            x=0.97, \n",
    "            y=0.5,\n",
    "            sizex=1, \n",
    "            sizey=1.5,\n",
    "            xanchor=\"center\", \n",
    "            yanchor=\"middle\",\n",
    "            layer=\"below\"\n",
    "          ),\n",
    "    dict(\n",
    "            xref=\"paper\", \n",
    "            yref=\"paper\",\n",
    "            x=0.05, \n",
    "            y=0.5,\n",
    "            sizex=1, \n",
    "            sizey=1.6,\n",
    "            xanchor=\"center\", \n",
    "            yanchor=\"middle\",\n",
    "            layer=\"below\"\n",
    "          )]\n",
    "\n",
    "    fig.update_layout(\n",
    "        title=f'<b>{name_players}</b>', \n",
    "         paper_bgcolor = \"rgb(223, 223, 223)\",\n",
    "        polar=dict(\n",
    "            bgcolor = \"rgb(223, 223, 223)\",\n",
    "             radialaxis=dict(\n",
    "                        visible = True,\n",
    "                        range = [0, 100]\n",
    "                            )\n",
    "                   ), \n",
    "        template='xgridoff',\n",
    "        font=dict(\n",
    "                  family='Arials',\n",
    "                  size=16, \n",
    "                  color='Black'\n",
    "                 )\n",
    "    )\n",
    "\n",
    "    fig.show('svg')    "
   ]
  },
  {
   "cell_type": "markdown",
   "metadata": {},
   "source": [
    "#### Lionel Messi vs C. Ronaldo dos Santos Aveiro"
   ]
  },
  {
   "cell_type": "code",
   "execution_count": 10,
   "metadata": {},
   "outputs": [
    {
     "data": {
      "image/svg+xml": [
       "<svg class=\"main-svg\" xmlns=\"http://www.w3.org/2000/svg\" xmlns:xlink=\"http://www.w3.org/1999/xlink\" width=\"700\" height=\"450\" style=\"\" viewBox=\"0 0 700 450\"><rect x=\"0\" y=\"0\" width=\"700\" height=\"450\" style=\"fill: rgb(223, 223, 223); fill-opacity: 1;\"/><defs id=\"defs-73e35f\"><g class=\"clips\"><clipPath id=\"clip73e35fpolar-for-traces\"><path d=\"M126.00000000000001,0A126.00000000000001,126.00000000000001 0,1,0 -126.00000000000001,-1.543054966925665e-14A126.00000000000001,126.00000000000001 0,1,0 126.00000000000001,3.08610993385133e-14Z\" transform=\"translate(126,126)\"/></clipPath></g><g class=\"gradients\"/></defs><g class=\"bglayer\"/><g class=\"layer-below\"><g class=\"imagelayer\"/><g class=\"shapelayer\"/></g><g class=\"cartesianlayer\"/><g class=\"polarlayer\"><g class=\"polar\"><g class=\"polarsublayer draglayer\"/><g class=\"polarsublayer plotbg\"><path d=\"M126.00000000000001,0A126.00000000000001,126.00000000000001 0,1,0 -126.00000000000001,-1.543054966925665e-14A126.00000000000001,126.00000000000001 0,1,0 126.00000000000001,3.08610993385133e-14Z\" transform=\"translate(350,235)\" style=\"fill: rgb(223, 223, 223); fill-opacity: 1;\"/></g><g class=\"polarsublayer backplot\"><g class=\"maplayer\"/></g><g class=\"polarsublayer angular-grid\" style=\"fill: none;\"><path class=\"angularaxisgrid\" d=\"M350,235L476,235\" style=\"stroke: rgb(161, 161, 161); stroke-opacity: 1; stroke-width: 1px;\"/><path class=\"angularaxisgrid\" d=\"M350,235L413,125.88079912316073\" style=\"stroke: rgb(161, 161, 161); stroke-opacity: 1; stroke-width: 1px;\"/><path class=\"angularaxisgrid\" d=\"M350,235L287,125.88079912316071\" style=\"stroke: rgb(161, 161, 161); stroke-opacity: 1; stroke-width: 1px;\"/><path class=\"angularaxisgrid\" d=\"M350,235L224,234.99999999999997\" style=\"stroke: rgb(161, 161, 161); stroke-opacity: 1; stroke-width: 1px;\"/><path class=\"angularaxisgrid\" d=\"M350,235L286.99999999999994,344.1192008768393\" style=\"stroke: rgb(161, 161, 161); stroke-opacity: 1; stroke-width: 1px;\"/><path class=\"angularaxisgrid\" d=\"M350,235L413,344.1192008768393\" style=\"stroke: rgb(161, 161, 161); stroke-opacity: 1; stroke-width: 1px;\"/></g><g class=\"polarsublayer radial-grid\" style=\"fill: none;\" transform=\"translate(350,235)\"><path class=\"xgrid\" d=\"M25.2,0A25.2,25.2 0,1,0 -25.2,-3.08610993385133e-15A25.2,25.2 0,1,0 25.2,6.17221986770266e-15Z\" style=\"stroke: rgb(161, 161, 161); stroke-opacity: 1; stroke-width: 1px;\"/><path class=\"xgrid\" d=\"M50.4,0A50.4,50.4 0,1,0 -50.4,-6.17221986770266e-15A50.4,50.4 0,1,0 50.4,1.234443973540532e-14Z\" style=\"stroke: rgb(161, 161, 161); stroke-opacity: 1; stroke-width: 1px;\"/><path class=\"xgrid\" d=\"M75.6,0A75.6,75.6 0,1,0 -75.6,-9.258329801553989e-15A75.6,75.6 0,1,0 75.6,1.8516659603107978e-14Z\" style=\"stroke: rgb(161, 161, 161); stroke-opacity: 1; stroke-width: 1px;\"/><path class=\"xgrid\" d=\"M100.8,0A100.8,100.8 0,1,0 -100.8,-1.234443973540532e-14A100.8,100.8 0,1,0 100.8,2.468887947081064e-14Z\" style=\"stroke: rgb(161, 161, 161); stroke-opacity: 1; stroke-width: 1px;\"/></g><g class=\"polarsublayer frontplot\" transform=\"translate(224,109)\"><g class=\"barlayer\"/><g class=\"scatterlayer\"><g class=\"trace scatter trace76ba96\" style=\"stroke-miterlimit: 2; opacity: 1;\"><g class=\"fills\" clip-path=\"url('#clip73e35fpolar-for-traces')\"><g><path class=\"js-fill\" d=\"M233.1,126L185.85,22.34L75.6,38.7L5.04,126L65.52,230.75L183.33,225.3L233.1,126Z\" style=\"fill: rgb(255, 165, 0); fill-opacity: 0.5; stroke-width: 0;\"/></g></g><g class=\"errorbars\"/><g class=\"lines\"><path class=\"js-line\" d=\"M233.1,126L185.85,22.34L75.6,38.7L5.04,126L65.52,230.75L183.33,225.3L233.1,126\" clip-path=\"url('#clip73e35fpolar-for-traces')\" style=\"vector-effect: non-scaling-stroke; fill: none; stroke: rgb(255, 165, 0); stroke-opacity: 1; stroke-width: 2px; opacity: 1;\"/></g><g class=\"points\"><path class=\"point\" transform=\"translate(233.1,126)\" d=\"M3,0A3,3 0 1,1 0,-3A3,3 0 0,1 3,0Z\" style=\"opacity: 1; stroke-width: 0px; fill: rgb(255, 165, 0); fill-opacity: 1;\"/><path class=\"point\" transform=\"translate(185.85,22.34)\" d=\"M3,0A3,3 0 1,1 0,-3A3,3 0 0,1 3,0Z\" style=\"opacity: 1; stroke-width: 0px; fill: rgb(255, 165, 0); fill-opacity: 1;\"/><path class=\"point\" transform=\"translate(75.6,38.7)\" d=\"M3,0A3,3 0 1,1 0,-3A3,3 0 0,1 3,0Z\" style=\"opacity: 1; stroke-width: 0px; fill: rgb(255, 165, 0); fill-opacity: 1;\"/><path class=\"point\" transform=\"translate(5.04,126)\" d=\"M3,0A3,3 0 1,1 0,-3A3,3 0 0,1 3,0Z\" style=\"opacity: 1; stroke-width: 0px; fill: rgb(255, 165, 0); fill-opacity: 1;\"/><path class=\"point\" transform=\"translate(65.52,230.75)\" d=\"M3,0A3,3 0 1,1 0,-3A3,3 0 0,1 3,0Z\" style=\"opacity: 1; stroke-width: 0px; fill: rgb(255, 165, 0); fill-opacity: 1;\"/><path class=\"point\" transform=\"translate(183.33,225.3)\" d=\"M3,0A3,3 0 1,1 0,-3A3,3 0 0,1 3,0Z\" style=\"opacity: 1; stroke-width: 0px; fill: rgb(255, 165, 0); fill-opacity: 1;\"/><path class=\"point\" transform=\"translate(233.1,126)\" d=\"M3,0A3,3 0 1,1 0,-3A3,3 0 0,1 3,0Z\" style=\"opacity: 1; stroke-width: 0px; fill: rgb(255, 165, 0); fill-opacity: 1;\"/></g><g class=\"text\"/></g><g class=\"trace scatter tracea0bd07\" style=\"stroke-miterlimit: 2; opacity: 1;\"><g class=\"fills\" clip-path=\"url('#clip73e35fpolar-for-traces')\"><g><path class=\"js-fill\" d=\"M231.84,126L185.85,22.34L68.67,26.7L15.12,126L68.04,226.39L180.81,220.93L231.84,126Z\" style=\"fill: rgb(0, 128, 0); fill-opacity: 0.5; stroke-width: 0;\"/></g></g><g class=\"errorbars\"/><g class=\"lines\"><path class=\"js-line\" d=\"M231.84,126L185.85,22.34L68.67,26.7L15.12,126L68.04,226.39L180.81,220.93L231.84,126\" clip-path=\"url('#clip73e35fpolar-for-traces')\" style=\"vector-effect: non-scaling-stroke; fill: none; stroke: rgb(0, 128, 0); stroke-opacity: 1; stroke-width: 2px; opacity: 1;\"/></g><g class=\"points\"><path class=\"point\" transform=\"translate(231.84,126)\" d=\"M3,0A3,3 0 1,1 0,-3A3,3 0 0,1 3,0Z\" style=\"opacity: 1; stroke-width: 0px; fill: rgb(0, 128, 0); fill-opacity: 1;\"/><path class=\"point\" transform=\"translate(185.85,22.34)\" d=\"M3,0A3,3 0 1,1 0,-3A3,3 0 0,1 3,0Z\" style=\"opacity: 1; stroke-width: 0px; fill: rgb(0, 128, 0); fill-opacity: 1;\"/><path class=\"point\" transform=\"translate(68.67,26.7)\" d=\"M3,0A3,3 0 1,1 0,-3A3,3 0 0,1 3,0Z\" style=\"opacity: 1; stroke-width: 0px; fill: rgb(0, 128, 0); fill-opacity: 1;\"/><path class=\"point\" transform=\"translate(15.12,126)\" d=\"M3,0A3,3 0 1,1 0,-3A3,3 0 0,1 3,0Z\" style=\"opacity: 1; stroke-width: 0px; fill: rgb(0, 128, 0); fill-opacity: 1;\"/><path class=\"point\" transform=\"translate(68.04,226.39)\" d=\"M3,0A3,3 0 1,1 0,-3A3,3 0 0,1 3,0Z\" style=\"opacity: 1; stroke-width: 0px; fill: rgb(0, 128, 0); fill-opacity: 1;\"/><path class=\"point\" transform=\"translate(180.81,220.93)\" d=\"M3,0A3,3 0 1,1 0,-3A3,3 0 0,1 3,0Z\" style=\"opacity: 1; stroke-width: 0px; fill: rgb(0, 128, 0); fill-opacity: 1;\"/><path class=\"point\" transform=\"translate(231.84,126)\" d=\"M3,0A3,3 0 1,1 0,-3A3,3 0 0,1 3,0Z\" style=\"opacity: 1; stroke-width: 0px; fill: rgb(0, 128, 0); fill-opacity: 1;\"/></g><g class=\"text\"/></g></g></g><g class=\"polarsublayer angular-line\"><path d=\"M126.00000000000001,0A126.00000000000001,126.00000000000001 0,1,0 -126.00000000000001,-1.543054966925665e-14A126.00000000000001,126.00000000000001 0,1,0 126.00000000000001,3.08610993385133e-14Z\" transform=\"translate(350,235)\" stroke-width=\"1\" style=\"fill: none; stroke: rgb(68, 68, 68); stroke-opacity: 1;\"/></g><g class=\"polarsublayer radial-line\"><line style=\"fill: none; stroke: rgb(68, 68, 68); stroke-opacity: 1;\" x1=\"0\" y1=\"0\" x2=\"126.00000000000001\" y2=\"0\" transform=\"translate(350,235)\" stroke-width=\"1\"/></g><g class=\"polarsublayer angular-axis\"><path class=\"angularaxistick ticks\" d=\"M0.5,0h5\" transform=\"translate(476,235)\" style=\"stroke: rgb(68, 68, 68); stroke-opacity: 1; stroke-width: 1px;\"/><path class=\"angularaxistick ticks\" d=\"M0.5,0h5\" transform=\"translate(413,125.88079912316073)rotate(-60)\" style=\"stroke: rgb(68, 68, 68); stroke-opacity: 1; stroke-width: 1px;\"/><path class=\"angularaxistick ticks\" d=\"M0.5,0h5\" transform=\"translate(287,125.88079912316071)rotate(-120)\" style=\"stroke: rgb(68, 68, 68); stroke-opacity: 1; stroke-width: 1px;\"/><path class=\"angularaxistick ticks\" d=\"M0.5,0h5\" transform=\"translate(224,234.99999999999997)rotate(-180)\" style=\"stroke: rgb(68, 68, 68); stroke-opacity: 1; stroke-width: 1px;\"/><path class=\"angularaxistick ticks\" d=\"M0.5,0h5\" transform=\"translate(286.99999999999994,344.1192008768393)rotate(-240)\" style=\"stroke: rgb(68, 68, 68); stroke-opacity: 1; stroke-width: 1px;\"/><path class=\"angularaxistick ticks\" d=\"M0.5,0h5\" transform=\"translate(413,344.1192008768393)rotate(-300)\" style=\"stroke: rgb(68, 68, 68); stroke-opacity: 1; stroke-width: 1px;\"/><g class=\"angularaxistick\"><text text-anchor=\"start\" x=\"8.7\" y=\"5.6\" transform=\"translate(476,235)\" style=\"font-family: Arials; font-size: 16px; fill: rgb(0, 0, 0); fill-opacity: 1; white-space: pre;\">Crossing</text></g><g class=\"angularaxistick\"><text text-anchor=\"start\" x=\"4.3500000000000005\" y=\"-7.505702305034818\" transform=\"translate(413,125.88079912316073)\" style=\"font-family: Arials; font-size: 16px; fill: rgb(0, 0, 0); fill-opacity: 1; white-space: pre;\">Finishing</text></g><g class=\"angularaxistick\"><text text-anchor=\"end\" x=\"-4.349999999999998\" y=\"-7.50570230503482\" transform=\"translate(287,125.88079912316071)\" style=\"font-family: Arials; font-size: 16px; fill: rgb(0, 0, 0); fill-opacity: 1; white-space: pre;\">Sprint Speed</text></g><g class=\"angularaxistick\"><text text-anchor=\"end\" x=\"-8.7\" y=\"5.599999999999998\" transform=\"translate(224,234.99999999999997)\" style=\"font-family: Arials; font-size: 16px; fill: rgb(0, 0, 0); fill-opacity: 1; white-space: pre;\">Dribbling</text></g><g class=\"angularaxistick\"><text text-anchor=\"end\" x=\"-4.350000000000003\" y=\"24.19082747347563\" transform=\"translate(286.99999999999994,344.1192008768393)\" style=\"font-family: Arials; font-size: 16px; fill: rgb(0, 0, 0); fill-opacity: 1; white-space: pre;\">Ball Control</text></g><g class=\"angularaxistick\"><text text-anchor=\"start\" x=\"4.3500000000000005\" y=\"24.190827473475633\" transform=\"translate(413,344.1192008768393)\" style=\"font-family: Arials; font-size: 16px; fill: rgb(0, 0, 0); fill-opacity: 1; white-space: pre;\">Acceleration</text></g></g><g class=\"polarsublayer radial-axis\" transform=\"translate(350,235)\"><path class=\"xtick ticks\" d=\"M0,0.5v5\" transform=\"\" style=\"stroke: rgb(68, 68, 68); stroke-opacity: 1; stroke-width: 1px;\"/><path class=\"xtick ticks\" d=\"M0,0.5v5\" transform=\"translate(25.2,0)\" style=\"stroke: rgb(68, 68, 68); stroke-opacity: 1; stroke-width: 1px;\"/><path class=\"xtick ticks\" d=\"M0,0.5v5\" transform=\"translate(50.4,0)\" style=\"stroke: rgb(68, 68, 68); stroke-opacity: 1; stroke-width: 1px;\"/><path class=\"xtick ticks\" d=\"M0,0.5v5\" transform=\"translate(75.6,0)\" style=\"stroke: rgb(68, 68, 68); stroke-opacity: 1; stroke-width: 1px;\"/><path class=\"xtick ticks\" d=\"M0,0.5v5\" transform=\"translate(100.8,0)\" style=\"stroke: rgb(68, 68, 68); stroke-opacity: 1; stroke-width: 1px;\"/><path class=\"xtick ticks\" d=\"M0,0.5v5\" transform=\"translate(126,0)\" style=\"stroke: rgb(68, 68, 68); stroke-opacity: 1; stroke-width: 1px;\"/><g class=\"xtick\"><text text-anchor=\"middle\" x=\"0\" y=\"24.7\" transform=\"\" style=\"font-family: Arials; font-size: 16px; fill: rgb(0, 0, 0); fill-opacity: 1; white-space: pre;\">0</text></g><g class=\"xtick\"><text text-anchor=\"middle\" x=\"0\" y=\"24.7\" transform=\"translate(25.2,0)\" style=\"font-family: Arials; font-size: 16px; fill: rgb(0, 0, 0); fill-opacity: 1; white-space: pre;\">20</text></g><g class=\"xtick\"><text text-anchor=\"middle\" x=\"0\" y=\"24.7\" transform=\"translate(50.4,0)\" style=\"font-family: Arials; font-size: 16px; fill: rgb(0, 0, 0); fill-opacity: 1; white-space: pre;\">40</text></g><g class=\"xtick\"><text text-anchor=\"middle\" x=\"0\" y=\"24.7\" transform=\"translate(75.6,0)\" style=\"font-family: Arials; font-size: 16px; fill: rgb(0, 0, 0); fill-opacity: 1; white-space: pre;\">60</text></g><g class=\"xtick\"><text text-anchor=\"middle\" x=\"0\" y=\"24.7\" transform=\"translate(100.8,0)\" style=\"font-family: Arials; font-size: 16px; fill: rgb(0, 0, 0); fill-opacity: 1; white-space: pre;\">80</text></g><g class=\"xtick\"><text text-anchor=\"middle\" x=\"0\" y=\"24.7\" transform=\"translate(126,0)\" style=\"font-family: Arials; font-size: 16px; fill: rgb(0, 0, 0); fill-opacity: 1; white-space: pre;\">100</text></g></g></g></g><g class=\"ternarylayer\"/><g class=\"geolayer\"/><g class=\"funnelarealayer\"/><g class=\"pielayer\"/><g class=\"treemaplayer\"/><g class=\"sunburstlayer\"/><g class=\"glimages\"/><defs id=\"topdefs-73e35f\"><g class=\"clips\"/></defs><g class=\"layer-above\"><g class=\"imagelayer\"/><g class=\"shapelayer\"/></g><g class=\"infolayer\"><g class=\"g-gtitle\"><text class=\"gtitle\" x=\"350\" y=\"50\" text-anchor=\"middle\" dy=\"0em\" style=\"font-family: Arials; font-size: 22px; fill: rgb(0, 0, 0); opacity: 1; font-weight: normal; white-space: pre;\"><tspan style=\"font-weight:bold\">Lionel Messi vs C. Ronaldo dos Santos Aveiro</tspan></text></g><g class=\"g-polartitle\"/></g></svg>"
      ]
     },
     "metadata": {},
     "output_type": "display_data"
    }
   ],
   "source": [
    "compare_polarcharts([85, 95, 80, 96, 96, 91, 85], 'Orange',\n",
    "                    [84, 95, 91, 88, 92, 87, 84], 'Green',\n",
    "                   'Lionel Messi vs C. Ronaldo dos Santos Aveiro')"
   ]
  },
  {
   "cell_type": "markdown",
   "metadata": {},
   "source": [
    "Messi surpasses Ronaldo in Dribbling and Ball Control techniques. Moreover, they have approximately the same level of impact. Messi is slightly faster than Ronaldo and has a higher Crossing parameter."
   ]
  },
  {
   "cell_type": "markdown",
   "metadata": {},
   "source": [
    "#### Neymar da Silva Santos Jr. vs Kylian Mbappé"
   ]
  },
  {
   "cell_type": "code",
   "execution_count": 11,
   "metadata": {},
   "outputs": [
    {
     "data": {
      "image/svg+xml": [
       "<svg class=\"main-svg\" xmlns=\"http://www.w3.org/2000/svg\" xmlns:xlink=\"http://www.w3.org/1999/xlink\" width=\"700\" height=\"450\" style=\"\" viewBox=\"0 0 700 450\"><rect x=\"0\" y=\"0\" width=\"700\" height=\"450\" style=\"fill: rgb(223, 223, 223); fill-opacity: 1;\"/><defs id=\"defs-6f6003\"><g class=\"clips\"><clipPath id=\"clip6f6003polar-for-traces\"><path d=\"M126.00000000000001,0A126.00000000000001,126.00000000000001 0,1,0 -126.00000000000001,-1.543054966925665e-14A126.00000000000001,126.00000000000001 0,1,0 126.00000000000001,3.08610993385133e-14Z\" transform=\"translate(126,126)\"/></clipPath></g><g class=\"gradients\"/></defs><g class=\"bglayer\"/><g class=\"layer-below\"><g class=\"imagelayer\"/><g class=\"shapelayer\"/></g><g class=\"cartesianlayer\"/><g class=\"polarlayer\"><g class=\"polar\"><g class=\"polarsublayer draglayer\"/><g class=\"polarsublayer plotbg\"><path d=\"M126.00000000000001,0A126.00000000000001,126.00000000000001 0,1,0 -126.00000000000001,-1.543054966925665e-14A126.00000000000001,126.00000000000001 0,1,0 126.00000000000001,3.08610993385133e-14Z\" transform=\"translate(350,235)\" style=\"fill: rgb(223, 223, 223); fill-opacity: 1;\"/></g><g class=\"polarsublayer backplot\"><g class=\"maplayer\"/></g><g class=\"polarsublayer angular-grid\" style=\"fill: none;\"><path class=\"angularaxisgrid\" d=\"M350,235L476,235\" style=\"stroke: rgb(161, 161, 161); stroke-opacity: 1; stroke-width: 1px;\"/><path class=\"angularaxisgrid\" d=\"M350,235L413,125.88079912316073\" style=\"stroke: rgb(161, 161, 161); stroke-opacity: 1; stroke-width: 1px;\"/><path class=\"angularaxisgrid\" d=\"M350,235L287,125.88079912316071\" style=\"stroke: rgb(161, 161, 161); stroke-opacity: 1; stroke-width: 1px;\"/><path class=\"angularaxisgrid\" d=\"M350,235L224,234.99999999999997\" style=\"stroke: rgb(161, 161, 161); stroke-opacity: 1; stroke-width: 1px;\"/><path class=\"angularaxisgrid\" d=\"M350,235L286.99999999999994,344.1192008768393\" style=\"stroke: rgb(161, 161, 161); stroke-opacity: 1; stroke-width: 1px;\"/><path class=\"angularaxisgrid\" d=\"M350,235L413,344.1192008768393\" style=\"stroke: rgb(161, 161, 161); stroke-opacity: 1; stroke-width: 1px;\"/></g><g class=\"polarsublayer radial-grid\" transform=\"translate(350,235)\" style=\"fill: none;\"><path class=\"xgrid\" d=\"M25.2,0A25.2,25.2 0,1,0 -25.2,-3.08610993385133e-15A25.2,25.2 0,1,0 25.2,6.17221986770266e-15Z\" style=\"stroke: rgb(161, 161, 161); stroke-opacity: 1; stroke-width: 1px;\"/><path class=\"xgrid\" d=\"M50.4,0A50.4,50.4 0,1,0 -50.4,-6.17221986770266e-15A50.4,50.4 0,1,0 50.4,1.234443973540532e-14Z\" style=\"stroke: rgb(161, 161, 161); stroke-opacity: 1; stroke-width: 1px;\"/><path class=\"xgrid\" d=\"M75.6,0A75.6,75.6 0,1,0 -75.6,-9.258329801553989e-15A75.6,75.6 0,1,0 75.6,1.8516659603107978e-14Z\" style=\"stroke: rgb(161, 161, 161); stroke-opacity: 1; stroke-width: 1px;\"/><path class=\"xgrid\" d=\"M100.8,0A100.8,100.8 0,1,0 -100.8,-1.234443973540532e-14A100.8,100.8 0,1,0 100.8,2.468887947081064e-14Z\" style=\"stroke: rgb(161, 161, 161); stroke-opacity: 1; stroke-width: 1px;\"/></g><g class=\"polarsublayer frontplot\" transform=\"translate(224,109)\"><g class=\"barlayer\"/><g class=\"scatterlayer\"><g class=\"trace scatter traceec44f8\" style=\"stroke-miterlimit: 2; opacity: 1;\"><g class=\"fills\" clip-path=\"url('#clip6f6003polar-for-traces')\"><g><path class=\"js-fill\" d=\"M233.1,126L180.81,31.07L69.93,28.88L6.3,126L66.15,229.66L185.22,228.57L233.1,126Z\" style=\"fill: rgb(135, 206, 235); fill-opacity: 0.5; stroke-width: 0;\"/></g></g><g class=\"errorbars\"/><g class=\"lines\"><path class=\"js-line\" d=\"M233.1,126L180.81,31.07L69.93,28.88L6.3,126L66.15,229.66L185.22,228.57L233.1,126\" clip-path=\"url('#clip6f6003polar-for-traces')\" style=\"vector-effect: non-scaling-stroke; fill: none; stroke: rgb(135, 206, 235); stroke-opacity: 1; stroke-width: 2px; opacity: 1;\"/></g><g class=\"points\"><path class=\"point\" transform=\"translate(233.1,126)\" d=\"M3,0A3,3 0 1,1 0,-3A3,3 0 0,1 3,0Z\" style=\"opacity: 1; stroke-width: 0px; fill: rgb(135, 206, 235); fill-opacity: 1;\"/><path class=\"point\" transform=\"translate(180.81,31.07)\" d=\"M3,0A3,3 0 1,1 0,-3A3,3 0 0,1 3,0Z\" style=\"opacity: 1; stroke-width: 0px; fill: rgb(135, 206, 235); fill-opacity: 1;\"/><path class=\"point\" transform=\"translate(69.93,28.88)\" d=\"M3,0A3,3 0 1,1 0,-3A3,3 0 0,1 3,0Z\" style=\"opacity: 1; stroke-width: 0px; fill: rgb(135, 206, 235); fill-opacity: 1;\"/><path class=\"point\" transform=\"translate(6.3,126)\" d=\"M3,0A3,3 0 1,1 0,-3A3,3 0 0,1 3,0Z\" style=\"opacity: 1; stroke-width: 0px; fill: rgb(135, 206, 235); fill-opacity: 1;\"/><path class=\"point\" transform=\"translate(66.15,229.66)\" d=\"M3,0A3,3 0 1,1 0,-3A3,3 0 0,1 3,0Z\" style=\"opacity: 1; stroke-width: 0px; fill: rgb(135, 206, 235); fill-opacity: 1;\"/><path class=\"point\" transform=\"translate(185.22,228.57)\" d=\"M3,0A3,3 0 1,1 0,-3A3,3 0 0,1 3,0Z\" style=\"opacity: 1; stroke-width: 0px; fill: rgb(135, 206, 235); fill-opacity: 1;\"/><path class=\"point\" transform=\"translate(233.1,126)\" d=\"M3,0A3,3 0 1,1 0,-3A3,3 0 0,1 3,0Z\" style=\"opacity: 1; stroke-width: 0px; fill: rgb(135, 206, 235); fill-opacity: 1;\"/></g><g class=\"text\"/></g><g class=\"trace scatter trace46b45a\" style=\"stroke-miterlimit: 2; opacity: 1;\"><g class=\"fills\" clip-path=\"url('#clip6f6003polar-for-traces')\"><g><path class=\"js-fill\" d=\"M224.28,126L183.33,26.7L65.52,21.25L10.08,126L69.3,224.21L186.48,230.75L224.28,126Z\" style=\"fill: rgb(128, 0, 128); fill-opacity: 0.5; stroke-width: 0;\"/></g></g><g class=\"errorbars\"/><g class=\"lines\"><path class=\"js-line\" d=\"M224.28,126L183.33,26.7L65.52,21.25L10.08,126L69.3,224.21L186.48,230.75L224.28,126\" clip-path=\"url('#clip6f6003polar-for-traces')\" style=\"vector-effect: non-scaling-stroke; fill: none; stroke: rgb(128, 0, 128); stroke-opacity: 1; stroke-width: 2px; opacity: 1;\"/></g><g class=\"points\"><path class=\"point\" transform=\"translate(224.28,126)\" d=\"M3,0A3,3 0 1,1 0,-3A3,3 0 0,1 3,0Z\" style=\"opacity: 1; stroke-width: 0px; fill: rgb(128, 0, 128); fill-opacity: 1;\"/><path class=\"point\" transform=\"translate(183.33,26.7)\" d=\"M3,0A3,3 0 1,1 0,-3A3,3 0 0,1 3,0Z\" style=\"opacity: 1; stroke-width: 0px; fill: rgb(128, 0, 128); fill-opacity: 1;\"/><path class=\"point\" transform=\"translate(65.52,21.25)\" d=\"M3,0A3,3 0 1,1 0,-3A3,3 0 0,1 3,0Z\" style=\"opacity: 1; stroke-width: 0px; fill: rgb(128, 0, 128); fill-opacity: 1;\"/><path class=\"point\" transform=\"translate(10.08,126)\" d=\"M3,0A3,3 0 1,1 0,-3A3,3 0 0,1 3,0Z\" style=\"opacity: 1; stroke-width: 0px; fill: rgb(128, 0, 128); fill-opacity: 1;\"/><path class=\"point\" transform=\"translate(69.3,224.21)\" d=\"M3,0A3,3 0 1,1 0,-3A3,3 0 0,1 3,0Z\" style=\"opacity: 1; stroke-width: 0px; fill: rgb(128, 0, 128); fill-opacity: 1;\"/><path class=\"point\" transform=\"translate(186.48,230.75)\" d=\"M3,0A3,3 0 1,1 0,-3A3,3 0 0,1 3,0Z\" style=\"opacity: 1; stroke-width: 0px; fill: rgb(128, 0, 128); fill-opacity: 1;\"/><path class=\"point\" transform=\"translate(224.28,126)\" d=\"M3,0A3,3 0 1,1 0,-3A3,3 0 0,1 3,0Z\" style=\"opacity: 1; stroke-width: 0px; fill: rgb(128, 0, 128); fill-opacity: 1;\"/></g><g class=\"text\"/></g></g></g><g class=\"polarsublayer angular-line\"><path d=\"M126.00000000000001,0A126.00000000000001,126.00000000000001 0,1,0 -126.00000000000001,-1.543054966925665e-14A126.00000000000001,126.00000000000001 0,1,0 126.00000000000001,3.08610993385133e-14Z\" transform=\"translate(350,235)\" stroke-width=\"1\" style=\"fill: none; stroke: rgb(68, 68, 68); stroke-opacity: 1;\"/></g><g class=\"polarsublayer radial-line\"><line x1=\"0\" y1=\"0\" x2=\"126.00000000000001\" y2=\"0\" transform=\"translate(350,235)\" stroke-width=\"1\" style=\"fill: none; stroke: rgb(68, 68, 68); stroke-opacity: 1;\"/></g><g class=\"polarsublayer angular-axis\"><path class=\"angularaxistick ticks\" d=\"M0.5,0h5\" transform=\"translate(476,235)\" style=\"stroke: rgb(68, 68, 68); stroke-opacity: 1; stroke-width: 1px;\"/><path class=\"angularaxistick ticks\" d=\"M0.5,0h5\" transform=\"translate(413,125.88079912316073)rotate(-60)\" style=\"stroke: rgb(68, 68, 68); stroke-opacity: 1; stroke-width: 1px;\"/><path class=\"angularaxistick ticks\" d=\"M0.5,0h5\" transform=\"translate(287,125.88079912316071)rotate(-120)\" style=\"stroke: rgb(68, 68, 68); stroke-opacity: 1; stroke-width: 1px;\"/><path class=\"angularaxistick ticks\" d=\"M0.5,0h5\" transform=\"translate(224,234.99999999999997)rotate(-180)\" style=\"stroke: rgb(68, 68, 68); stroke-opacity: 1; stroke-width: 1px;\"/><path class=\"angularaxistick ticks\" d=\"M0.5,0h5\" transform=\"translate(286.99999999999994,344.1192008768393)rotate(-240)\" style=\"stroke: rgb(68, 68, 68); stroke-opacity: 1; stroke-width: 1px;\"/><path class=\"angularaxistick ticks\" d=\"M0.5,0h5\" transform=\"translate(413,344.1192008768393)rotate(-300)\" style=\"stroke: rgb(68, 68, 68); stroke-opacity: 1; stroke-width: 1px;\"/><g class=\"angularaxistick\"><text text-anchor=\"start\" x=\"8.7\" y=\"5.6\" transform=\"translate(476,235)\" style=\"font-family: Arials; font-size: 16px; fill: rgb(0, 0, 0); fill-opacity: 1; white-space: pre;\">Crossing</text></g><g class=\"angularaxistick\"><text text-anchor=\"start\" x=\"4.3500000000000005\" y=\"-7.505702305034818\" transform=\"translate(413,125.88079912316073)\" style=\"font-family: Arials; font-size: 16px; fill: rgb(0, 0, 0); fill-opacity: 1; white-space: pre;\">Finishing</text></g><g class=\"angularaxistick\"><text text-anchor=\"end\" x=\"-4.349999999999998\" y=\"-7.50570230503482\" transform=\"translate(287,125.88079912316071)\" style=\"font-family: Arials; font-size: 16px; fill: rgb(0, 0, 0); fill-opacity: 1; white-space: pre;\">Sprint Speed</text></g><g class=\"angularaxistick\"><text text-anchor=\"end\" x=\"-8.7\" y=\"5.599999999999998\" transform=\"translate(224,234.99999999999997)\" style=\"font-family: Arials; font-size: 16px; fill: rgb(0, 0, 0); fill-opacity: 1; white-space: pre;\">Dribbling</text></g><g class=\"angularaxistick\"><text text-anchor=\"end\" x=\"-4.350000000000003\" y=\"24.19082747347563\" transform=\"translate(286.99999999999994,344.1192008768393)\" style=\"font-family: Arials; font-size: 16px; fill: rgb(0, 0, 0); fill-opacity: 1; white-space: pre;\">Ball Control</text></g><g class=\"angularaxistick\"><text text-anchor=\"start\" x=\"4.3500000000000005\" y=\"24.190827473475633\" transform=\"translate(413,344.1192008768393)\" style=\"font-family: Arials; font-size: 16px; fill: rgb(0, 0, 0); fill-opacity: 1; white-space: pre;\">Acceleration</text></g></g><g class=\"polarsublayer radial-axis\" transform=\"translate(350,235)\"><path class=\"xtick ticks\" d=\"M0,0.5v5\" transform=\"\" style=\"stroke: rgb(68, 68, 68); stroke-opacity: 1; stroke-width: 1px;\"/><path class=\"xtick ticks\" d=\"M0,0.5v5\" transform=\"translate(25.2,0)\" style=\"stroke: rgb(68, 68, 68); stroke-opacity: 1; stroke-width: 1px;\"/><path class=\"xtick ticks\" d=\"M0,0.5v5\" transform=\"translate(50.4,0)\" style=\"stroke: rgb(68, 68, 68); stroke-opacity: 1; stroke-width: 1px;\"/><path class=\"xtick ticks\" d=\"M0,0.5v5\" transform=\"translate(75.6,0)\" style=\"stroke: rgb(68, 68, 68); stroke-opacity: 1; stroke-width: 1px;\"/><path class=\"xtick ticks\" d=\"M0,0.5v5\" transform=\"translate(100.8,0)\" style=\"stroke: rgb(68, 68, 68); stroke-opacity: 1; stroke-width: 1px;\"/><path class=\"xtick ticks\" d=\"M0,0.5v5\" transform=\"translate(126,0)\" style=\"stroke: rgb(68, 68, 68); stroke-opacity: 1; stroke-width: 1px;\"/><g class=\"xtick\"><text text-anchor=\"middle\" x=\"0\" y=\"24.7\" transform=\"\" style=\"font-family: Arials; font-size: 16px; fill: rgb(0, 0, 0); fill-opacity: 1; white-space: pre;\">0</text></g><g class=\"xtick\"><text text-anchor=\"middle\" x=\"0\" y=\"24.7\" transform=\"translate(25.2,0)\" style=\"font-family: Arials; font-size: 16px; fill: rgb(0, 0, 0); fill-opacity: 1; white-space: pre;\">20</text></g><g class=\"xtick\"><text text-anchor=\"middle\" x=\"0\" y=\"24.7\" transform=\"translate(50.4,0)\" style=\"font-family: Arials; font-size: 16px; fill: rgb(0, 0, 0); fill-opacity: 1; white-space: pre;\">40</text></g><g class=\"xtick\"><text text-anchor=\"middle\" x=\"0\" y=\"24.7\" transform=\"translate(75.6,0)\" style=\"font-family: Arials; font-size: 16px; fill: rgb(0, 0, 0); fill-opacity: 1; white-space: pre;\">60</text></g><g class=\"xtick\"><text text-anchor=\"middle\" x=\"0\" y=\"24.7\" transform=\"translate(100.8,0)\" style=\"font-family: Arials; font-size: 16px; fill: rgb(0, 0, 0); fill-opacity: 1; white-space: pre;\">80</text></g><g class=\"xtick\"><text text-anchor=\"middle\" x=\"0\" y=\"24.7\" transform=\"translate(126,0)\" style=\"font-family: Arials; font-size: 16px; fill: rgb(0, 0, 0); fill-opacity: 1; white-space: pre;\">100</text></g></g></g></g><g class=\"ternarylayer\"/><g class=\"geolayer\"/><g class=\"funnelarealayer\"/><g class=\"pielayer\"/><g class=\"treemaplayer\"/><g class=\"sunburstlayer\"/><g class=\"glimages\"/><defs id=\"topdefs-6f6003\"><g class=\"clips\"/></defs><g class=\"layer-above\"><g class=\"imagelayer\"/><g class=\"shapelayer\"/></g><g class=\"infolayer\"><g class=\"g-gtitle\"><text class=\"gtitle\" x=\"350\" y=\"50\" text-anchor=\"middle\" dy=\"0em\" style=\"font-family: Arials; font-size: 22px; fill: rgb(0, 0, 0); opacity: 1; font-weight: normal; white-space: pre;\"><tspan style=\"font-weight:bold\">Neymar da Silva Santos Jr. vs Kylian Mbappé</tspan></text></g><g class=\"g-polartitle\"/></g></svg>"
      ]
     },
     "metadata": {},
     "output_type": "display_data"
    }
   ],
   "source": [
    "compare_polarcharts([85, 87, 89, 95, 95, 94, 85], 'SkyBlue',\n",
    "                    [78, 91, 96, 92, 90, 96, 78], 'Purple',\n",
    "                   'Neymar da Silva Santos Jr. vs Kylian Mbappé')"
   ]
  },
  {
   "cell_type": "markdown",
   "metadata": {},
   "source": [
    "Neymar is better than Kylian in Ball Control and Crossing, but Kylian has a higher Sprint Speed parameter. Thus, Kylian has a higher scoring rate than Neymar."
   ]
  }
 ],
 "metadata": {
  "kernelspec": {
   "display_name": "Python 3",
   "language": "python",
   "name": "python3"
  },
  "language_info": {
   "codemirror_mode": {
    "name": "ipython",
    "version": 3
   },
   "file_extension": ".py",
   "mimetype": "text/x-python",
   "name": "python",
   "nbconvert_exporter": "python",
   "pygments_lexer": "ipython3",
   "version": "3.7.6"
  }
 },
 "nbformat": 4,
 "nbformat_minor": 4
}
